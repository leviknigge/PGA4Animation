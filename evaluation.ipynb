{
 "cells": [
  {
   "cell_type": "code",
   "execution_count": 15,
   "metadata": {},
   "outputs": [],
   "source": [
    "import numpy as np\n",
    "import pandas as pd\n",
    "import matplotlib.pyplot as plt"
   ]
  },
  {
   "cell_type": "code",
   "execution_count": 9,
   "metadata": {},
   "outputs": [],
   "source": [
    "h = np.array(pd.read_csv(\"results/algebra_valid.txt\", header=None, skiprows=0))\n",
    "y = np.array(pd.read_csv(\"results/algebra_valid_y.txt\", header=None, skiprows=0))"
   ]
  },
  {
   "cell_type": "code",
   "execution_count": 3,
   "metadata": {},
   "outputs": [
    {
     "ename": "NameError",
     "evalue": "name 'y' is not defined",
     "output_type": "error",
     "traceback": [
      "\u001b[1;31m---------------------------------------------------------------------------\u001b[0m",
      "\u001b[1;31mNameError\u001b[0m                                 Traceback (most recent call last)",
      "\u001b[1;32m<ipython-input-3-66deeff2bbda>\u001b[0m in \u001b[0;36m<module>\u001b[1;34m\u001b[0m\n\u001b[0;32m     28\u001b[0m     \u001b[1;32mreturn\u001b[0m \u001b[0mout\u001b[0m\u001b[1;33m\u001b[0m\u001b[1;33m\u001b[0m\u001b[0m\n\u001b[0;32m     29\u001b[0m \u001b[1;31m#         break\u001b[0m\u001b[1;33m\u001b[0m\u001b[1;33m\u001b[0m\u001b[1;33m\u001b[0m\u001b[0m\n\u001b[1;32m---> 30\u001b[1;33m \u001b[0myyyy\u001b[0m \u001b[1;33m=\u001b[0m \u001b[0mjitter\u001b[0m\u001b[1;33m(\u001b[0m\u001b[0my\u001b[0m\u001b[1;33m)\u001b[0m\u001b[1;33m\u001b[0m\u001b[1;33m\u001b[0m\u001b[0m\n\u001b[0m\u001b[0;32m     31\u001b[0m \u001b[0mhhhh\u001b[0m \u001b[1;33m=\u001b[0m \u001b[0mjitter\u001b[0m\u001b[1;33m(\u001b[0m\u001b[0mh\u001b[0m\u001b[1;33m)\u001b[0m\u001b[1;33m\u001b[0m\u001b[1;33m\u001b[0m\u001b[0m\n",
      "\u001b[1;31mNameError\u001b[0m: name 'y' is not defined"
     ]
    }
   ],
   "source": [
    "# A simple zero cross function for the derivative\n",
    "\n",
    "def jitter(data):\n",
    "    ydim,xdim = data.shape\n",
    "#     print(xdim)\n",
    "\n",
    "    out = []\n",
    "    \n",
    "    for i in range(xdim):\n",
    "        current = data[0:ydim-1,i]\n",
    "        current_1 =data[1:ydim,i]\n",
    "        \n",
    "        diffs = current_1-current\n",
    "        diffs_1 = diffs[1:]\n",
    "        diffs = diffs[:-1]\n",
    "\n",
    "        a = np.logical_and((diffs > 0),(diffs_1 < 0))\n",
    "        aa = np.logical_and((diffs < 0),(diffs_1 > 0))\n",
    "\n",
    "        jit = np.logical_or(a,aa)\n",
    "\n",
    "        out.append([jit,sum(jit)])\n",
    "    return out\n",
    "\n",
    "yyyy = jitter(y)\n",
    "hhhh = jitter(h)"
   ]
  },
  {
   "cell_type": "code",
   "execution_count": null,
   "metadata": {},
   "outputs": [],
   "source": []
  },
  {
   "cell_type": "code",
   "execution_count": 17,
   "metadata": {},
   "outputs": [],
   "source": [
    "oo = np.loadtxt(\"generate/algebra_output_100000_2.txt\",delimiter=\",\", max_rows=10000)\n",
    "ii = np.loadtxt(\"generate/algebra_input_100000_2.txt\",delimiter=\",\", max_rows=10000)\n",
    "\n",
    "gg = np.loadtxt(\"generate/group_output_100000_2.txt\",delimiter=\",\", max_rows=10000)\n",
    "pp = np.loadtxt(\"generate/group_input_100000_2.txt\",delimiter=\",\", max_rows=10000)"
   ]
  },
  {
   "cell_type": "code",
   "execution_count": 20,
   "metadata": {},
   "outputs": [
    {
     "name": "stdout",
     "output_type": "stream",
     "text": [
      "(10000, 186)\n",
      "(10000, 3041)\n"
     ]
    }
   ],
   "source": [
    "print(oo.shape)\n",
    "print(ii.shape)"
   ]
  },
  {
   "cell_type": "code",
   "execution_count": null,
   "metadata": {},
   "outputs": [],
   "source": []
  },
  {
   "cell_type": "code",
   "execution_count": 6,
   "metadata": {},
   "outputs": [
    {
     "name": "stderr",
     "output_type": "stream",
     "text": [
      "C:\\Users\\levik\\Anaconda3\\lib\\site-packages\\numba\\np\\ufunc\\parallel.py:355: NumbaWarning: \u001b[1mThe TBB threading layer requires TBB version 2019.5 or later i.e., TBB_INTERFACE_VERSION >= 11005. Found TBB_INTERFACE_VERSION = 10005. The TBB threading layer is disabled.\u001b[0m\n",
      "  warnings.warn(problem)\n"
     ]
    }
   ],
   "source": [
    "from clifford import pga\n",
    "from math import e, pi"
   ]
  },
  {
   "cell_type": "code",
   "execution_count": null,
   "metadata": {},
   "outputs": [],
   "source": [
    "# functions to compare and implement the motors of pga"
   ]
  },
  {
   "cell_type": "code",
   "execution_count": 7,
   "metadata": {},
   "outputs": [],
   "source": [
    "def algebra_motor_compare(algebra, algebra_out):\n",
    "#     x_g,y_g = group.shape\n",
    "    x_a,y_a = algebra.shape\n",
    "#     print(x_g,y_g,x_a,y_a)\n",
    "    \n",
    "#     vals = dict()\n",
    "    \n",
    "    out = []\n",
    "    \n",
    "    a = (1*pga.e0 + .5*pga.e1 + 0*pga.e2 + 0*pga.e3).dual()\n",
    "    b = (1*pga.e0 + 0*pga.e1 + .5*pga.e2 + 0*pga.e3).dual()\n",
    "    c = (1*pga.e0 + 0*pga.e1 + 0*pga.e2 + .5*pga.e3).dual()\n",
    "    \n",
    "    for i in range(x_a):\n",
    "        add = []\n",
    "#         vals[i] = dict()\n",
    "        for j in range(0,y_a//6):  \n",
    "            \n",
    "            d_a = algebra[i,j*6:j*6+6]\n",
    "            rbm_a = d_a[0] * pga.e01 + d_a[1] * pga.e02+ d_a[2] * pga.e03 + d_a[3] * pga.e12 + d_a[4] * pga.e13 + d_a[5] * pga.e23\n",
    "            \n",
    "            d_a = algebra_out[i,j*6:j*6+6]\n",
    "            rbm_a_o = d_a[0] * pga.e01 + d_a[1] * pga.e02+ d_a[2] * pga.e03 + d_a[3] * pga.e12 + d_a[4] * pga.e13 + d_a[5] * pga.e23\n",
    "                        \n",
    "            mot_a = e**rbm_a\n",
    "            mot_a_o = e**rbm_a_o\n",
    "            \n",
    "            \n",
    "            at_a = mot_a*a*~mot_a\n",
    "            bt_a = mot_a*b*~mot_a\n",
    "            ct_a = mot_a*c*~mot_a\n",
    "            \n",
    "            at_a_o = mot_a_o*a*~mot_a_o\n",
    "            bt_a_o = mot_a_o*b*~mot_a_o\n",
    "            ct_a_o = mot_a_o*c*~mot_a_o\n",
    "            \n",
    "            at_a_dist = at_a.normal().vee(at_a_o.normal())\n",
    "            bt_a_dist = bt_a.normal().vee(bt_a_o.normal())\n",
    "            ct_a_dist = ct_a.normal().vee(ct_a_o.normal())\n",
    "            \n",
    "            p1 = at_a.vee(bt_a.vee(ct_a))\n",
    "            p2 = at_a_o.vee(bt_a_o.vee(ct_a_o))\n",
    "            \n",
    "#             at_g_dist_val = np.sqrt(sum([q ** 2 for q in at_g_dist]))\n",
    "            if add == []:\n",
    "#                 print(add)\n",
    "                add = [[np.sqrt(sum([q ** 2 for q in at_a_dist])),\n",
    "                                  np.sqrt(sum([q ** 2 for q in bt_a_dist])),\n",
    "                                  np.sqrt(sum([q ** 2 for q in ct_a_dist]))]]\n",
    "            else:\n",
    "#                 print(add)\n",
    "                add.append([np.sqrt(sum([q ** 2 for q in at_a_dist])),\n",
    "                                  np.sqrt(sum([q ** 2 for q in bt_a_dist])),\n",
    "                                  np.sqrt(sum([q ** 2 for q in ct_a_dist]))])\n",
    "                \n",
    "\n",
    "        if out == []:\n",
    "            out = [add]\n",
    "        else:\n",
    "            out.append(add)\n",
    "    return out"
   ]
  },
  {
   "cell_type": "code",
   "execution_count": 8,
   "metadata": {},
   "outputs": [],
   "source": [
    "def group_motor_compare(group, group_out):\n",
    "    x_g,y_g = group.shape\n",
    "#     x_a,y_a = algebra.shape\n",
    "    \n",
    "#     vals = dict()\n",
    "    out = []\n",
    "    a = (1*pga.e0 + .5*pga.e1 + 0*pga.e2 + 0*pga.e3).dual()\n",
    "    b = (1*pga.e0 + 0*pga.e1 + .5*pga.e2 + 0*pga.e3).dual()\n",
    "    c = (1*pga.e0 + 0*pga.e1 + 0*pga.e2 + .5*pga.e3).dual()\n",
    "    \n",
    "    for i in range(x_g):\n",
    "#         vals[i] = dict()\n",
    "        add = []\n",
    "        for j in range(0,y_g//8):            \n",
    "           \n",
    "            d_g = group[i,j*8:j*8+8]\n",
    "            rbm_g = d_g[0] * 1 + d_g[1] * pga.e01 + d_g[2] * pga.e02 + d_g[3] * pga.e03 + d_g[4] * pga.e12 + d_g[5] * pga.e13 + d_g[6] * pga.e23 + d_g[7] * pga.e0123\n",
    "\n",
    "            d_g = group_out[i,j*8:j*8+8]\n",
    "            rbm_g_o = d_g[0] * 1 + d_g[1] * pga.e01 + d_g[2] * pga.e02 + d_g[3] * pga.e03 + d_g[4] * pga.e12 + d_g[5] * pga.e13 + d_g[6] * pga.e23 + d_g[7] * pga.e0123\n",
    "\n",
    "\n",
    "          \n",
    "            mot_g = e**rbm_g\n",
    "            mot_g_o = e**rbm_g_o\n",
    "            \n",
    "            \n",
    "            at_g = mot_g*a*~mot_g\n",
    "            bt_g = mot_g*b*~mot_g\n",
    "            ct_g = mot_g*c*~mot_g\n",
    "            \n",
    "            at_g_o = mot_g_o*a*~mot_g_o\n",
    "            bt_g_o = mot_g_o*b*~mot_g_o\n",
    "            ct_g_o = mot_g_o*c*~mot_g_o\n",
    "            \n",
    "            at_g_dist = at_g.normal().vee(at_g_o.normal())\n",
    "            bt_g_dist = bt_g.normal().vee(bt_g_o.normal())\n",
    "            ct_g_dist = ct_g.normal().vee(ct_g_o.normal())\n",
    "            \n",
    "#             at_g_dist_val = np.sqrt(sum([q ** 2 for q in at_g_dist]))\n",
    "            if add == []:\n",
    "#                 print(add)\n",
    "                add = [[np.sqrt(sum([q ** 2 for q in at_g_dist])),\n",
    "                                  np.sqrt(sum([q ** 2 for q in bt_g_dist])),\n",
    "                                  np.sqrt(sum([q ** 2 for q in ct_g_dist]))]]\n",
    "            else:\n",
    "#                 print(add)\n",
    "                add.append([np.sqrt(sum([q ** 2 for q in at_g_dist])),\n",
    "                                  np.sqrt(sum([q ** 2 for q in bt_g_dist])),\n",
    "                                  np.sqrt(sum([q ** 2 for q in ct_g_dist]))])\n",
    "                \n",
    "        if out == []:\n",
    "            out = [add]\n",
    "        else:\n",
    "            out.append(add)\n",
    "    return out"
   ]
  },
  {
   "cell_type": "code",
   "execution_count": 9,
   "metadata": {},
   "outputs": [],
   "source": [
    "# kok = algebra_motor_compare(oo, oo)\n",
    "# algebra_motor_compare(oo,oo)"
   ]
  },
  {
   "cell_type": "code",
   "execution_count": 10,
   "metadata": {},
   "outputs": [],
   "source": [
    "# kok = group_motor_compare(gg, gg)\n",
    "# group_motor_compare(gg,gg)"
   ]
  },
  {
   "cell_type": "code",
   "execution_count": 11,
   "metadata": {},
   "outputs": [],
   "source": [
    "# kok[0]"
   ]
  },
  {
   "cell_type": "code",
   "execution_count": 12,
   "metadata": {},
   "outputs": [],
   "source": [
    "aa_y = np.loadtxt(\"results/algebra_result_4_y.txt\",delimiter=\",\", max_rows=100000)\n",
    "aa_h = np.loadtxt(\"results/algebra_result_4.txt\",delimiter=\",\", max_rows=100000)\n",
    "\n",
    "gg_y = np.loadtxt(\"results/group_result_4_y.txt\",delimiter=\",\", max_rows=100000)\n",
    "gg_h = np.loadtxt(\"results/group_result_4.txt\",delimiter=\",\", max_rows=100000)"
   ]
  },
  {
   "cell_type": "code",
   "execution_count": null,
   "metadata": {},
   "outputs": [],
   "source": []
  },
  {
   "cell_type": "code",
   "execution_count": null,
   "metadata": {},
   "outputs": [],
   "source": [
    "# comparing some errors"
   ]
  },
  {
   "cell_type": "code",
   "execution_count": 17,
   "metadata": {},
   "outputs": [],
   "source": [
    "gg_diff = gg_y-gg_h"
   ]
  },
  {
   "cell_type": "code",
   "execution_count": 26,
   "metadata": {},
   "outputs": [
    {
     "data": {
      "text/plain": [
       "array([ 7.74236e-01, -8.74269e-01,  3.62234e-01, -8.30137e-01,\n",
       "        1.68100e-02,  6.32419e-01, -1.79360e-02, -2.93654e-01,\n",
       "        1.00000e+00,  0.00000e+00,  0.00000e+00,  0.00000e+00,\n",
       "        0.00000e+00,  0.00000e+00,  0.00000e+00,  0.00000e+00,\n",
       "        9.75998e-01,  5.69000e-02, -4.35730e-02,  1.91060e-02,\n",
       "        1.88584e-01, -5.14000e-04,  1.08921e-01,  1.00190e-02,\n",
       "        9.62866e-01,  6.71310e-02, -1.84441e-01,  5.50350e-02,\n",
       "        0.00000e+00,  9.23390e-02, -2.53698e-01,  0.00000e+00,\n",
       "        9.74309e-01,  8.11320e-02, -2.05876e-01, -3.50120e-02,\n",
       "        2.56600e-02, -2.05088e-01,  8.94590e-02, -3.68090e-02,\n",
       "        9.98947e-01,  6.32200e-03, -1.73690e-02,  7.36210e-02,\n",
       "        0.00000e+00, -1.56900e-02,  4.31070e-02,  0.00000e+00,\n",
       "        1.00000e+00,  0.00000e+00,  0.00000e+00,  0.00000e+00,\n",
       "        0.00000e+00,  0.00000e+00,  0.00000e+00,  0.00000e+00,\n",
       "        9.71167e-01, -5.38990e-02, -4.74170e-02,  1.10340e-02,\n",
       "       -1.31119e-01,  1.38575e-01,  1.42969e-01, -2.65900e-03,\n",
       "        9.33987e-01, -6.45740e-02, -1.77414e-01,  7.22270e-02,\n",
       "       -1.00000e-06, -1.22206e-01, -3.35759e-01,  0.00000e+00,\n",
       "        9.78798e-01, -7.56770e-02, -2.12069e-01, -4.65960e-02,\n",
       "        6.16900e-03,  4.12670e-02,  2.00535e-01, -6.85700e-03,\n",
       "        9.90520e-01, -2.01700e-03, -5.54200e-03,  7.69410e-02,\n",
       "        0.00000e+00, -4.69820e-02, -1.29081e-01,  0.00000e+00,\n",
       "        9.98632e-01,  0.00000e+00,  0.00000e+00,  0.00000e+00,\n",
       "        4.97370e-02,  7.67000e-04, -1.61010e-02,  0.00000e+00,\n",
       "        9.98511e-01, -1.65500e-03,  6.53540e-02, -9.49700e-03,\n",
       "        8.23000e-03,  3.98100e-03, -5.37730e-02, -2.50000e-04,\n",
       "        9.98721e-01,  1.28300e-03,  6.58270e-02, -1.49400e-03,\n",
       "       -1.96260e-02,  1.44100e-03, -4.65750e-02, -1.25000e-04,\n",
       "        9.96169e-01,  0.00000e+00,  0.00000e+00,  0.00000e+00,\n",
       "        6.73800e-03, -1.63040e-02,  8.56550e-02,  0.00000e+00,\n",
       "        9.80565e-01, -9.80000e-05,  5.46470e-02, -5.59300e-03,\n",
       "       -4.48000e-04, -1.87840e-02, -1.95291e-01,  1.06900e-03,\n",
       "        9.97128e-01,  3.39700e-03,  5.38550e-02, -1.24700e-02,\n",
       "        1.27900e-03, -8.44800e-03, -7.52580e-02,  1.84000e-04,\n",
       "        1.00000e+00,  0.00000e+00,  0.00000e+00,  0.00000e+00,\n",
       "        0.00000e+00,  0.00000e+00,  0.00000e+00,  0.00000e+00,\n",
       "        6.76592e-01,  6.78660e-02,  6.95450e-02, -4.91870e-02,\n",
       "        4.50673e-01, -3.96823e-01, -4.26202e-01, -3.47250e-02,\n",
       "        8.49233e-01,  1.36961e-01, -4.25780e-02, -7.37480e-02,\n",
       "       -2.64010e-01, -4.57278e-01,  0.00000e+00,  0.00000e+00,\n",
       "        9.65986e-01,  9.73650e-02,  0.00000e+00,  0.00000e+00,\n",
       "        0.00000e+00,  0.00000e+00,  2.58594e-01,  2.60640e-02,\n",
       "        9.78515e-01,  0.00000e+00,  0.00000e+00,  0.00000e+00,\n",
       "       -1.24502e-01,  1.63024e-01, -2.07420e-02,  0.00000e+00,\n",
       "        9.98068e-01,  1.68230e-02,  1.04700e-03,  0.00000e+00,\n",
       "        6.21370e-02,  0.00000e+00,  0.00000e+00,  0.00000e+00,\n",
       "        9.06794e-01,  0.00000e+00,  0.00000e+00,  0.00000e+00,\n",
       "        9.48890e-02,  4.09185e-01, -3.58800e-02,  0.00000e+00,\n",
       "        1.00000e+00,  0.00000e+00,  0.00000e+00,  0.00000e+00,\n",
       "        0.00000e+00,  0.00000e+00,  0.00000e+00,  0.00000e+00,\n",
       "        7.01686e-01, -6.54580e-02,  8.64560e-02, -1.29880e-02,\n",
       "       -6.80660e-01,  9.26520e-02, -1.89087e-01,  1.88230e-02,\n",
       "        9.86892e-01, -1.54790e-01, -1.26560e-02, -2.19210e-02,\n",
       "        8.06920e-02,  1.39763e-01,  0.00000e+00,  0.00000e+00,\n",
       "        9.96998e-01, -1.01922e-01,  0.00000e+00,  0.00000e+00,\n",
       "        0.00000e+00,  0.00000e+00, -7.74210e-02,  7.91500e-03,\n",
       "        9.94391e-01,  0.00000e+00,  0.00000e+00,  0.00000e+00,\n",
       "        1.03176e-01,  2.31590e-02,  2.40300e-03,  0.00000e+00,\n",
       "        9.98068e-01, -1.74640e-02,  1.08700e-03,  0.00000e+00,\n",
       "       -6.21370e-02,  0.00000e+00,  0.00000e+00,  0.00000e+00,\n",
       "        9.65260e-01,  0.00000e+00,  0.00000e+00,  0.00000e+00,\n",
       "       -1.05319e-01, -2.30189e-01, -6.47600e-02,  0.00000e+00])"
      ]
     },
     "execution_count": 26,
     "metadata": {},
     "output_type": "execute_result"
    }
   ],
   "source": [
    "gg_y[22*8:22*8+8][1]"
   ]
  },
  {
   "cell_type": "code",
   "execution_count": 42,
   "metadata": {},
   "outputs": [
    {
     "data": {
      "text/plain": [
       "array([ 5.670320e-01, -1.844350e-01,  2.991300e-01, -4.691350e-01,\n",
       "       -4.051000e-03,  3.582420e-01,  5.500000e-04, -2.587930e-01,\n",
       "        1.000839e+00,  7.900000e-05, -7.960000e-04,  1.207000e-03,\n",
       "       -6.000000e-06,  5.740000e-04, -4.100000e-04,  4.800000e-05,\n",
       "        9.382110e-01,  5.202100e-02, -4.887300e-02,  1.574900e-02,\n",
       "        1.469210e-01, -1.860600e-02,  1.619880e-01,  1.160500e-02,\n",
       "        9.055520e-01,  6.444100e-02, -1.770660e-01,  7.385000e-02,\n",
       "       -0.000000e+00,  1.201220e-01, -3.301290e-01,  0.000000e+00,\n",
       "        9.924480e-01,  7.921200e-02, -2.203440e-01, -2.811300e-02,\n",
       "       -6.309000e-03, -8.575000e-02,  9.670500e-02, -9.977000e-03,\n",
       "        9.922970e-01,  5.558000e-03, -1.525900e-02,  6.848800e-02,\n",
       "        4.000000e-06,  5.500000e-04, -1.427000e-03,  0.000000e+00,\n",
       "        9.997000e-01,  1.770000e-04, -2.000000e-06, -1.350000e-03,\n",
       "       -4.430000e-04, -3.450000e-04, -8.350000e-04,  8.450000e-04,\n",
       "        9.522770e-01, -5.226800e-02, -4.706100e-02,  1.492700e-02,\n",
       "       -1.841750e-01,  4.315600e-02,  1.774870e-01, -1.112600e-02,\n",
       "        9.235110e-01, -6.735900e-02, -1.850770e-01,  7.789000e-02,\n",
       "        2.000000e-06, -1.246170e-01, -3.422670e-01,  0.000000e+00,\n",
       "        9.846370e-01, -7.568200e-02, -2.107720e-01, -3.427200e-02,\n",
       "        3.291000e-03,  2.140000e-04,  1.449290e-01, -1.290300e-02,\n",
       "        9.927540e-01, -3.772000e-03, -1.036000e-02,  6.987200e-02,\n",
       "       -1.000000e-06, -1.715300e-02, -4.733300e-02, -0.000000e+00,\n",
       "        9.840180e-01, -6.190000e-04, -8.570000e-04,  7.640000e-04,\n",
       "        1.747700e-02, -3.536000e-03, -1.250870e-01, -9.000000e-05,\n",
       "        9.984780e-01,  6.900000e-04,  6.136700e-02, -8.358000e-03,\n",
       "        3.000000e-06, -6.580000e-04, -4.267700e-02,  1.900000e-05,\n",
       "        9.972880e-01,  2.468000e-03,  6.181100e-02,  2.470000e-04,\n",
       "       -1.451500e-02,  1.106000e-03,  1.560300e-02,  5.000000e-05,\n",
       "        9.874910e-01,  1.480000e-04, -4.290000e-04,  4.480000e-04,\n",
       "       -2.676000e-03, -2.360000e-03,  1.000570e-01, -9.080000e-04,\n",
       "        9.806210e-01,  1.849000e-03,  5.024400e-02,  1.832000e-03,\n",
       "       -2.518300e-02, -6.881000e-03, -1.313240e-01, -4.970000e-04,\n",
       "        9.970870e-01,  3.013000e-03,  5.072800e-02, -6.392000e-03,\n",
       "       -8.699000e-03, -2.086000e-03, -5.238500e-02,  1.920000e-04,\n",
       "        1.000267e+00,  3.870000e-04, -6.100000e-05,  9.410000e-04,\n",
       "        1.772000e-03,  8.800000e-05, -2.000000e-05, -1.598000e-03,\n",
       "        7.584330e-01,  6.175400e-02,  7.186200e-02, -4.459500e-02,\n",
       "        4.238550e-01, -3.250010e-01, -4.508300e-02, -5.395000e-03,\n",
       "        8.428540e-01,  1.393630e-01, -3.758200e-02, -6.509700e-02,\n",
       "       -2.307050e-01, -3.999900e-01,  1.000000e-06,  0.000000e+00,\n",
       "        9.739890e-01,  1.024740e-01,  2.700000e-04,  2.860000e-04,\n",
       "        1.920000e-04, -6.470000e-04,  3.959500e-02,  3.830000e-03,\n",
       "        9.611070e-01, -4.730000e-04,  1.640000e-04,  8.420000e-04,\n",
       "       -2.029910e-01,  9.185300e-02, -3.799000e-03, -8.000000e-06,\n",
       "        9.980680e-01,  2.024200e-02,  1.260000e-03,  2.110610e+00,\n",
       "        6.213700e-02,  8.090000e-04,  4.870000e-04,  1.480000e-04,\n",
       "        9.452460e-01,  1.700000e-03, -5.770000e-04, -6.450000e-04,\n",
       "        7.988900e-02,  3.189820e-01, -1.072700e-02,  1.279000e-03,\n",
       "        9.995300e-01,  1.031000e-03,  3.400000e-04, -3.520000e-04,\n",
       "       -6.690000e-04, -7.900000e-05,  6.590000e-04, -5.890000e-04,\n",
       "        7.580260e-01, -5.696600e-02,  6.838200e-02, -3.600100e-02,\n",
       "       -4.528650e-01,  2.746670e-01,  5.140500e-02, -5.045000e-03,\n",
       "        9.165490e-01, -1.538940e-01, -2.796900e-02, -4.846400e-02,\n",
       "        1.626320e-01,  2.815560e-01,  0.000000e+00, -0.000000e+00,\n",
       "        9.495530e-01, -1.091600e-01, -1.345200e-02,  8.590000e-04,\n",
       "        3.540000e-04,  3.480000e-04, -2.269600e-02,  3.362000e-03,\n",
       "        9.605530e-01, -1.280000e-04,  9.150000e-04,  1.208000e-03,\n",
       "        2.153020e-01,  1.419080e-01, -1.679700e-02, -7.000000e-06,\n",
       "        9.980680e-01, -1.838800e-02,  1.143000e-03,  5.840000e-04,\n",
       "       -6.213700e-02,  3.440000e-04,  1.110000e-03,  8.700000e-04,\n",
       "        9.493890e-01, -6.380000e-04, -1.327000e-03,  5.520000e-04,\n",
       "       -3.535400e-02, -2.219690e-01, -2.779700e-02, -1.420000e-04])"
      ]
     },
     "execution_count": 42,
     "metadata": {},
     "output_type": "execute_result"
    }
   ],
   "source": [
    "gg_h[22*8:22*8+8][1]"
   ]
  },
  {
   "cell_type": "code",
   "execution_count": 41,
   "metadata": {},
   "outputs": [
    {
     "data": {
      "text/plain": [
       "array([-1.56467e-01,  6.50109e-01, -1.28817e-01,  9.14562e-01,\n",
       "       -1.21180e-02,  4.70873e-01,  4.07840e-02, -2.13670e-02,\n",
       "        1.01100e-03,  9.50000e-05, -9.59000e-04,  1.45400e-03,\n",
       "       -7.00000e-06,  6.91000e-04, -4.94000e-04,  5.70000e-05,\n",
       "        7.83600e-03,  3.08100e-03,  8.09300e-03,  5.06300e-03,\n",
       "        8.32430e-02,  1.48282e-01, -3.51850e-02,  8.11100e-03,\n",
       "        5.70290e-02,  3.22400e-03, -8.87800e-03, -2.75370e-02,\n",
       "        0.00000e+00, -4.50710e-02,  1.23725e-01,  0.00000e+00,\n",
       "       -2.80200e-03,  4.32400e-03,  1.16010e-02, -6.00000e-04,\n",
       "        4.01970e-02,  1.46269e-01,  5.95620e-02,  3.67390e-02,\n",
       "       -2.00400e-03, -1.76000e-03,  4.84400e-03,  5.88500e-03,\n",
       "       -2.00000e-06,  1.37630e-02, -3.77170e-02,  0.00000e+00,\n",
       "       -3.62000e-04,  2.14000e-04, -3.00000e-06, -1.62600e-03,\n",
       "       -5.34000e-04, -4.15000e-04, -1.00600e-03,  1.01800e-03,\n",
       "        5.29570e-02, -1.12400e-03,  2.29800e-03,  5.72500e-03,\n",
       "        5.23030e-02, -4.89620e-02, -1.24339e-01,  4.37700e-03,\n",
       "       -1.92960e-02,  4.56200e-03,  1.25240e-02,  2.44160e-02,\n",
       "        0.00000e+00, -4.59510e-02, -1.26103e-01,  0.00000e+00,\n",
       "        1.15780e-02, -2.80600e-03, -4.18800e-03,  4.71950e-02,\n",
       "       -4.30300e-03,  4.92800e-02, -2.19770e-01,  3.01270e-02,\n",
       "       -1.34760e-02,  3.45500e-03,  9.50100e-03,  5.82000e-03,\n",
       "        0.00000e+00, -4.76340e-02, -1.31119e-01,  0.00000e+00,\n",
       "        1.80140e-02, -7.45000e-04, -1.03300e-03,  9.20000e-04,\n",
       "        1.06430e-02,  1.16900e-02,  1.29998e-01, -1.08000e-04,\n",
       "        4.92000e-04, -2.18100e-03,  4.03900e-03,  5.43000e-04,\n",
       "        1.08120e-02,  1.33040e-02,  7.80000e-03, -8.35000e-04,\n",
       "        1.61100e-03, -1.77700e-03,  3.95900e-03, -7.99000e-04,\n",
       "        2.24300e-03,  6.05800e-03, -5.63100e-02, -5.21000e-04,\n",
       "        5.08100e-03,  1.78000e-04, -5.16000e-04,  5.40000e-04,\n",
       "       -3.87020e-02,  2.67890e-02,  9.90000e-04, -1.09400e-03,\n",
       "       -6.54500e-03, -5.91400e-03,  4.28900e-03, -9.81300e-03,\n",
       "        1.08548e-01,  4.90650e-02, -1.02160e-01, -1.54000e-03,\n",
       "       -1.16400e-03, -1.29900e-03,  3.26500e-03, -7.13400e-03,\n",
       "        3.84930e-02,  2.50090e-02, -4.03480e-02, -1.88800e-03,\n",
       "        3.22000e-04,  4.66000e-04, -7.40000e-05,  1.13400e-03,\n",
       "        2.13400e-03,  1.06000e-04, -2.50000e-05, -1.92400e-03,\n",
       "        8.53050e-02,  2.11830e-02,  5.33100e-03,  2.47950e-02,\n",
       "        7.61870e-02,  1.05035e-01, -2.66060e-01, -1.69360e-02,\n",
       "        5.52600e-02,  8.99300e-03,  1.32130e-02,  2.28780e-02,\n",
       "        7.01780e-02,  1.21074e-01,  1.00000e-06,  0.00000e+00,\n",
       "        2.40570e-02, -2.60500e-03,  3.25000e-04,  3.44000e-04,\n",
       "        2.31000e-04, -7.80000e-04,  1.11638e-01,  1.24010e-02,\n",
       "       -5.44900e-03, -5.70000e-04,  1.97000e-04,  1.01400e-03,\n",
       "       -6.76500e-03,  1.56521e-01, -4.23470e-02, -9.00000e-06,\n",
       "        0.00000e+00, -3.57600e-03, -2.22000e-04, -8.78023e-01,\n",
       "        0.00000e+00,  9.74000e-04,  5.87000e-04,  1.78000e-04,\n",
       "       -4.88920e-02,  2.04800e-03, -6.95000e-04, -7.77000e-04,\n",
       "       -4.20320e-02,  1.52063e-01,  1.12380e-02,  1.54100e-03,\n",
       "       -5.66000e-04,  1.24200e-03,  4.10000e-04, -4.24000e-04,\n",
       "       -8.06000e-04, -9.50000e-05,  7.94000e-04, -7.09000e-04,\n",
       "       -2.71600e-03, -1.74670e-02,  5.41000e-04,  7.82600e-03,\n",
       "       -7.28220e-02, -3.10510e-02, -1.81932e-01,  1.51150e-02,\n",
       "        3.86650e-02,  3.79200e-03,  4.74000e-03,  8.19000e-03,\n",
       "       -1.48950e-02, -2.59540e-02,  0.00000e+00,  0.00000e+00,\n",
       "       -8.81400e-03,  1.28520e-02,  4.40730e-02, -5.42700e-03,\n",
       "        4.27000e-04,  4.19000e-04, -1.23550e-02, -7.32000e-04,\n",
       "        4.80240e-02, -1.54000e-04,  1.10200e-03,  1.45500e-03,\n",
       "       -8.30710e-02, -3.16600e-02,  1.06280e-02, -8.00000e-06,\n",
       "        0.00000e+00,  6.46000e-04, -3.60000e-05,  7.03000e-04,\n",
       "        0.00000e+00,  4.14000e-04,  1.33700e-03,  1.04800e-03,\n",
       "        4.25450e-02, -7.68000e-04, -1.59800e-03,  6.65000e-04,\n",
       "       -6.93650e-02,  3.50470e-02, -4.84410e-02, -1.72000e-04])"
      ]
     },
     "execution_count": 41,
     "metadata": {},
     "output_type": "execute_result"
    }
   ],
   "source": [
    "gg_diff[0*8:0*8+8][2]"
   ]
  },
  {
   "cell_type": "code",
   "execution_count": 22,
   "metadata": {},
   "outputs": [
    {
     "data": {
      "text/plain": [
       "'LEFTHANDINDEX1'"
      ]
     },
     "execution_count": 22,
     "metadata": {},
     "output_type": "execute_result"
    }
   ],
   "source": [
    "bones[22]"
   ]
  },
  {
   "cell_type": "code",
   "execution_count": 13,
   "metadata": {},
   "outputs": [],
   "source": [
    "aa_a = np.array(algebra_motor_compare(aa_y, aa_h))"
   ]
  },
  {
   "cell_type": "code",
   "execution_count": 14,
   "metadata": {},
   "outputs": [],
   "source": [
    "gg_g = np.array(group_motor_compare(gg_y, gg_h))"
   ]
  },
  {
   "cell_type": "code",
   "execution_count": 630,
   "metadata": {},
   "outputs": [
    {
     "name": "stdout",
     "output_type": "stream",
     "text": [
      "0.897 1.03 HIPS\n",
      "0.21 0.163 RIGHTARM\n",
      "0.206 0.152 LEFTARM\n",
      "0.088 0.111 RTHUMB\n",
      "0.1 0.1 LTHUMB\n",
      "0.095 0.099 LEFTFINGERBASE\n",
      "0.102 0.097 RIGHTUPLEG\n",
      "0.1 0.09 LEFTUPLEG\n",
      "0.101 0.089 LEFTFOOT\n",
      "0.098 0.089 RIGHTFINGERBASE\n",
      "0.079 0.083 RIGHTFOOT\n",
      "0.075 0.075 LEFTFOREARM\n",
      "0.354 0.075 RIGHTHAND\n",
      "0.092 0.074 RIGHTFOREARM\n",
      "0.065 0.069 LEFTHAND\n",
      "0.082 0.065 LEFTLEG\n",
      "0.075 0.064 RIGHTLEG\n",
      "0.089 0.056 NECK1\n",
      "0.054 0.053 RIGHTTOEBASE\n",
      "0.08 0.05 NECK\n",
      "0.053 0.044 LEFTTOEBASE\n",
      "0.057 0.036 SPINE\n",
      "0.054 0.03 HEAD\n",
      "0.035 0.023 SPINE1\n",
      "0.022 0.02 SPINE2\n",
      "0.008 0.005 RIGHTHANDINDEX1\n",
      "2.345 0.003 LEFTHANDINDEX1\n",
      "0.002 0.002 LEFTSHOULDER\n",
      "0.002 0.001 RIGHTSHOULDER\n",
      "0.003 0.001 RHIPJOINT\n",
      "0.003 0.0 LHIPJOINT\n",
      "\n",
      "2.3451 LEFTHANDINDEX1\n",
      "0.8974 HIPS\n",
      "0.3536 RIGHTHAND\n",
      "0.2096 RIGHTARM\n",
      "0.2062 LEFTARM\n",
      "0.102 RIGHTUPLEG\n",
      "0.1006 LEFTFOOT\n",
      "0.1004 LEFTUPLEG\n",
      "0.1003 LTHUMB\n",
      "0.0983 RIGHTFINGERBASE\n",
      "0.095 LEFTFINGERBASE\n",
      "0.0917 RIGHTFOREARM\n",
      "0.0886 NECK1\n",
      "0.0884 RTHUMB\n",
      "0.0818 LEFTLEG\n",
      "0.0801 NECK\n",
      "0.0787 RIGHTFOOT\n",
      "0.0755 LEFTFOREARM\n",
      "0.0747 RIGHTLEG\n",
      "0.0652 LEFTHAND\n",
      "0.057 SPINE\n",
      "0.0545 RIGHTTOEBASE\n",
      "0.0536 HEAD\n",
      "0.0527 LEFTTOEBASE\n",
      "0.0352 SPINE1\n",
      "0.0218 SPINE2\n",
      "0.0077 RIGHTHANDINDEX1\n",
      "0.003 RHIPJOINT\n",
      "0.0027 LHIPJOINT\n",
      "0.0022 RIGHTSHOULDER\n",
      "0.0021 LEFTSHOULDER\n"
     ]
    }
   ],
   "source": [
    "# errors sorted for both reps\n",
    "\n",
    "aap = np.mean(np.sum(aa_a,axis=2)/3,axis=0)\n",
    "ggp = np.mean(np.sum(gg_g,axis=2)/3,axis=0)\n",
    "\n",
    "saap = np.sort(aap)[::-1]\n",
    "sggp = np.sort(ggp)[::-1]\n",
    "\n",
    "for i in saap:\n",
    "    j = list(aap).index(i)\n",
    "    print(np.around(ggp[j],decimals=3),np.around(i,decimals=3), bones[j])\n",
    "#     print(ggp[j])\n",
    "print()\n",
    "for i in sggp:\n",
    "    j = list(ggp).index(i)\n",
    "    print(np.around(i,decimals=4), bones[j])"
   ]
  },
  {
   "cell_type": "code",
   "execution_count": 469,
   "metadata": {},
   "outputs": [],
   "source": [
    "gg_g_re = gg_g.reshape(aa_a.shape[0], -1)\n",
    "np.savetxt(\"gg_r_4_full.txt\", gg_g_re)\n",
    "\n",
    "aa_a_re = aa_a.reshape(aa_a.shape[0], -1)\n",
    "np.savetxt(\"aa_r_4_full.txt\", aa_a_re)"
   ]
  },
  {
   "cell_type": "code",
   "execution_count": 470,
   "metadata": {},
   "outputs": [
    {
     "name": "stdout",
     "output_type": "stream",
     "text": [
      "0.09194952284153465\n",
      "0.181476133946368\n"
     ]
    }
   ],
   "source": [
    "print(np.mean(aa_a))\n",
    "print(np.mean(gg_g))"
   ]
  },
  {
   "cell_type": "code",
   "execution_count": 471,
   "metadata": {},
   "outputs": [
    {
     "name": "stdout",
     "output_type": "stream",
     "text": [
      "0.23700420695106178\n",
      "0.5271423592473939\n"
     ]
    }
   ],
   "source": [
    "print(np.std(aa_a))\n",
    "print(np.std(gg_g))\n"
   ]
  },
  {
   "cell_type": "code",
   "execution_count": 472,
   "metadata": {},
   "outputs": [
    {
     "name": "stdout",
     "output_type": "stream",
     "text": [
      "0.040065755008446224\n",
      "0.06047908826633018\n"
     ]
    }
   ],
   "source": [
    "print(np.median(aa_a))\n",
    "print(np.median(gg_g))"
   ]
  },
  {
   "cell_type": "code",
   "execution_count": 588,
   "metadata": {},
   "outputs": [
    {
     "data": {
      "image/png": "[encoded data removed]",
      "text/plain": [
       "<Figure size 432x288 with 1 Axes>"
      ]
     },
     "metadata": {
      "needs_background": "light"
     },
     "output_type": "display_data"
    },
    {
     "name": "stdout",
     "output_type": "stream",
     "text": [
      "[array([[2.53492741],\n",
      "       [2.09517968],\n",
      "       [1.87920857],\n",
      "       ...,\n",
      "       [0.02552555],\n",
      "       [0.06284555],\n",
      "       [0.06263494]]), array([3.33093688e+00, 2.19995984e+00, 1.62935127e-03, ...,\n",
      "       6.45118382e-03, 6.74495875e-03, 5.00030119e-02])]\n"
     ]
    }
   ],
   "source": [
    "# error distributions of representations\n",
    "\n",
    "data = [data_aa, data_gg[::2,0]]\n",
    "# print(data[0][0])\n",
    "fig7, ax7 = plt.subplots(figsize=(6,4))\n",
    "ax7.set_title('Distribution of distance error')\n",
    "ax7.boxplot(data, vert=False, showfliers=False, widths=.8)\n",
    "plt.xlim([-.01, 0.3])\n",
    "plt.yticks([1,2], [\"Algebra\",\"Group\"], rotation=45)\n",
    "\n",
    "# means\n",
    "plt.plot([0.09194952284153465],[1], \"o\", c=\"orange\")\n",
    "plt.plot(0.181476133946368,2,\"o\", c=\"orange\")\n",
    "\n",
    "plt.text(0.182,2.05,r'$\\bar{x}$'+'=0.181',horizontalalignment='left')\n",
    "plt.text(0.096,1.05,r'$\\bar{x}$'+'=0.091',horizontalalignment='left')\n",
    "\n",
    "0.040065755008446224\n",
    "0.06047908826633018\n",
    "# plt.plot([0.040065755008446224],[1], \"o\", c=\"orange\")\n",
    "# plt.plot(0.06047908826633018,2,\"o\", c=\"orange\")\n",
    "\n",
    "plt.text(0.061,2.05,r'$\\tilde{x}$'+'=0.060',horizontalalignment='left')\n",
    "plt.text(0.041,1.05,r'$\\tilde{x}$'+'=0.040',horizontalalignment='left')\n",
    "\n",
    "# 0.181476133946368\n",
    "plt.show()\n",
    "print(data)"
   ]
  },
  {
   "cell_type": "code",
   "execution_count": 386,
   "metadata": {},
   "outputs": [
    {
     "data": {
      "image/png": "[encoded data removed]",
      "text/plain": [
       "<Figure size 360x360 with 1 Axes>"
      ]
     },
     "metadata": {
      "needs_background": "light"
     },
     "output_type": "display_data"
    }
   ],
   "source": [
    "import numpy as np\n",
    "import seaborn as sb\n",
    "import matplotlib.pyplot as plt\n",
    " \n",
    "# frequnecy graph for each error\n",
    "    \n",
    "data = np.random.normal(10,3,300) #Generating data.\n",
    "# print(data,data.shape)\n",
    "plt.figure(figsize = (5,5))\n",
    "sb.kdeplot(np.around(aa_a.flatten(),decimals=8) , bw = 0.0000001)\n",
    "sb.kdeplot(np.around(gg_g.flatten(),decimals=8) , bw = 0.0000001)\n",
    "# plt.xlim([-.25, 1])\n",
    "plt.ylim([-0.1, 1])\n",
    "plt.plot([.3,.3],[-1,1])\n",
    "plt.show()"
   ]
  },
  {
   "cell_type": "code",
   "execution_count": 421,
   "metadata": {},
   "outputs": [],
   "source": [
    "import matplotlib.pyplot as plt\n",
    "import numpy as np\n",
    "\n",
    "data_a = aa_a.flatten()\n",
    "# print(data)\n",
    "heights_a, bins_a = np.histogram(data_a, bins = 10000)\n",
    "# print(heights,bins)\n",
    "# print(sum(heights), len(heights))\n",
    "sum_h = sum(heights)\n",
    "percent_a = [i/sum_h*100 for i in heights_a]\n",
    "# print(percent)\n",
    "\n",
    "data_g = gg_g.flatten()\n",
    "# print(data)\n",
    "heights_g, bins_g = np.histogram(data_g, bins = 10000)\n",
    "# print(heights,bins)\n",
    "# print(sum(heights), len(heights))\n",
    "sum_g = sum(heights_g)\n",
    "percent_g = [i/sum_g*100 for i in heights_g]\n",
    "# print(percent)"
   ]
  },
  {
   "cell_type": "code",
   "execution_count": 464,
   "metadata": {},
   "outputs": [
    {
     "data": {
      "image/png": "[encoded data removed]",
      "text/plain": [
       "<Figure size 720x360 with 1 Axes>"
      ]
     },
     "metadata": {
      "needs_background": "light"
     },
     "output_type": "display_data"
    },
    {
     "data": {
      "image/png": "[encoded data removed]",
      "text/plain": [
       "<Figure size 720x360 with 1 Axes>"
      ]
     },
     "metadata": {
      "needs_background": "light"
     },
     "output_type": "display_data"
    }
   ],
   "source": [
    "f, ax = plt.subplots(1, 1, figsize=(10,5))\n",
    "\n",
    "# different frequency graph for errors using log scale\n",
    "\n",
    "ax.bar(bins_a[:-1], percent_a, width=0.01, align=\"edge\", alpha = 0.2)\n",
    "ax.bar(bins_g[:-1], percent_g, width=0.1, align=\"edge\", alpha = 0.2)\n",
    "# vals = ax.get_yticks()\n",
    "# ax.set_yticklabels(['%1.2f%%' %i for i in vals])\n",
    "plt.xlim([-.1, 1])\n",
    "ax.set_yscale('log')\n",
    "plt.show()\n",
    "\n",
    "f, ax = plt.subplots(1, 1, figsize=(10,5))\n",
    "\n",
    "ax.bar(bins_a[:-1], percent_a, width=0.01, align=\"edge\", alpha = 0.2)\n",
    "ax.bar(bins_g[:-1], percent_g, width=0.01, align=\"edge\", alpha = 0.2)\n",
    "# vals = ax.get_yticks()\n",
    "# ax.set_yticklabels(['%1.2f%%' %i for i in vals])\n",
    "plt.xlim([-.1, 1])\n",
    "# ax.set_yscale('log')\n",
    "plt.ylim([0,2])\n",
    "plt.show()"
   ]
  },
  {
   "cell_type": "code",
   "execution_count": 465,
   "metadata": {},
   "outputs": [
    {
     "data": {
      "image/png": "[encoded data removed]",
      "text/plain": [
       "<Figure size 432x288 with 1 Axes>"
      ]
     },
     "metadata": {
      "needs_background": "light"
     },
     "output_type": "display_data"
    }
   ],
   "source": [
    "levi = pd.Series(bins_a[:-1],percent_a)\n",
    "sb.kdeplot(levi, shade=True, bw=0.01)\n",
    "plt.show()"
   ]
  },
  {
   "cell_type": "code",
   "execution_count": 416,
   "metadata": {},
   "outputs": [
    {
     "data": {
      "image/png": "[encoded data removed]",
      "text/plain": [
       "<Figure size 432x288 with 1 Axes>"
      ]
     },
     "metadata": {
      "needs_background": "light"
     },
     "output_type": "display_data"
    }
   ],
   "source": [
    "sb.kdeplot(np.random.random_sample(10000) , bw = 0.00001)\n",
    "sb.kdeplot(np.random.random_sample(100) , bw = 0.00001)\n",
    "plt.show()\n",
    "# np.random.random_sample(1000)"
   ]
  },
  {
   "cell_type": "code",
   "execution_count": 244,
   "metadata": {},
   "outputs": [
    {
     "data": {
      "text/plain": [
       "array([12, 29, 27, 24, 22, 17,  6,  1, 14,  7, 16, 19, 10, 13,  3,  8, 11,\n",
       "       15,  2, 20,  4,  9, 25,  5, 28, 23, 26, 21, 18, 30,  0],\n",
       "      dtype=int64)"
      ]
     },
     "execution_count": 244,
     "metadata": {},
     "output_type": "execute_result"
    }
   ],
   "source": [
    "np.argpartition(np.sum(aa_a, axis=2)[0],-10)"
   ]
  },
  {
   "cell_type": "code",
   "execution_count": 250,
   "metadata": {},
   "outputs": [
    {
     "data": {
      "text/plain": [
       "array([5976, 6257, 6253, 6432, 5164, 6431, 6455, 6260,  966, 1948],\n",
       "      dtype=int64)"
      ]
     },
     "execution_count": 250,
     "metadata": {},
     "output_type": "execute_result"
    }
   ],
   "source": [
    "np.argpartition(np.sum(aa_a, axis=2).T,-10)[0][-10:]"
   ]
  },
  {
   "cell_type": "code",
   "execution_count": 1,
   "metadata": {},
   "outputs": [
    {
     "ename": "NameError",
     "evalue": "name 'np' is not defined",
     "output_type": "error",
     "traceback": [
      "\u001b[1;31m---------------------------------------------------------------------------\u001b[0m",
      "\u001b[1;31mNameError\u001b[0m                                 Traceback (most recent call last)",
      "\u001b[1;32m<ipython-input-1-fbd5a829a1e2>\u001b[0m in \u001b[0;36m<module>\u001b[1;34m\u001b[0m\n\u001b[1;32m----> 1\u001b[1;33m \u001b[0mmot_1_best\u001b[0m \u001b[1;33m=\u001b[0m \u001b[0mnp\u001b[0m\u001b[1;33m.\u001b[0m\u001b[0margpartition\u001b[0m\u001b[1;33m(\u001b[0m\u001b[0mnp\u001b[0m\u001b[1;33m.\u001b[0m\u001b[0msum\u001b[0m\u001b[1;33m(\u001b[0m\u001b[0maa_a\u001b[0m\u001b[1;33m,\u001b[0m \u001b[0maxis\u001b[0m\u001b[1;33m=\u001b[0m\u001b[1;36m2\u001b[0m\u001b[1;33m)\u001b[0m\u001b[1;33m.\u001b[0m\u001b[0mT\u001b[0m\u001b[1;33m,\u001b[0m\u001b[1;33m-\u001b[0m\u001b[1;36m10\u001b[0m\u001b[1;33m)\u001b[0m\u001b[1;33m[\u001b[0m\u001b[1;36m0\u001b[0m\u001b[1;33m]\u001b[0m\u001b[1;33m[\u001b[0m\u001b[1;33m-\u001b[0m\u001b[1;36m10\u001b[0m\u001b[1;33m:\u001b[0m\u001b[1;33m]\u001b[0m\u001b[1;33m\u001b[0m\u001b[1;33m\u001b[0m\u001b[0m\n\u001b[0m\u001b[0;32m      2\u001b[0m \u001b[0mmot_1_worst\u001b[0m \u001b[1;33m=\u001b[0m \u001b[0mnp\u001b[0m\u001b[1;33m.\u001b[0m\u001b[0margpartition\u001b[0m\u001b[1;33m(\u001b[0m\u001b[0mnp\u001b[0m\u001b[1;33m.\u001b[0m\u001b[0msum\u001b[0m\u001b[1;33m(\u001b[0m\u001b[0maa_a\u001b[0m\u001b[1;33m,\u001b[0m \u001b[0maxis\u001b[0m\u001b[1;33m=\u001b[0m\u001b[1;36m2\u001b[0m\u001b[1;33m)\u001b[0m\u001b[1;33m.\u001b[0m\u001b[0mT\u001b[0m\u001b[1;33m,\u001b[0m\u001b[1;36m10\u001b[0m\u001b[1;33m)\u001b[0m\u001b[1;33m[\u001b[0m\u001b[1;36m0\u001b[0m\u001b[1;33m]\u001b[0m\u001b[1;33m[\u001b[0m\u001b[1;33m:\u001b[0m\u001b[1;36m10\u001b[0m\u001b[1;33m]\u001b[0m\u001b[1;33m\u001b[0m\u001b[1;33m\u001b[0m\u001b[0m\n",
      "\u001b[1;31mNameError\u001b[0m: name 'np' is not defined"
     ]
    }
   ],
   "source": [
    "mot_1_best = np.argpartition(np.sum(aa_a, axis=2).T,-10)[0][-10:]\n",
    "mot_1_worst = np.argpartition(np.sum(aa_a, axis=2).T,10)[0][:10]"
   ]
  },
  {
   "cell_type": "code",
   "execution_count": 272,
   "metadata": {},
   "outputs": [
    {
     "data": {
      "text/plain": [
       "(10, 6)"
      ]
     },
     "execution_count": 272,
     "metadata": {},
     "output_type": "execute_result"
    }
   ],
   "source": [
    "aa_h[:,0][mot_1_best]\n",
    "aa_h[mot_1_best][:,0*6:0*6+6].shape\n"
   ]
  },
  {
   "cell_type": "code",
   "execution_count": 354,
   "metadata": {},
   "outputs": [
    {
     "name": "stdout",
     "output_type": "stream",
     "text": [
      "(3.20272^e01) + (0.49355^e02) + (0.68594^e03) - (0.08643^e12) - (0.21923^e13) + (0.00923^e23)\n",
      "(2.51575^e01) + (0.59843^e02) - (0.62504^e03) - (0.0127^e12) - (1.75966^e13) - (0.04053^e23)\n",
      "(2.31316^e01) + (0.47219^e02) - (0.61887^e03) + (0.00248^e12) - (1.21212^e13) + (0.01747^e23)\n",
      "(2.66626^e01) + (0.60149^e02) - (0.27574^e03) + (0.0817^e12) - (0.94584^e13) + (0.05384^e23)\n",
      "(2.24526^e01) + (0.40034^e02) - (2.0128^e03) - (0.08021^e12) - (1.56636^e13) + (0.02058^e23)\n",
      "(2.74261^e01) + (0.56439^e02) + (0.19558^e03) + (0.17034^e12) - (0.72246^e13) + (0.0069^e23)\n",
      "(2.70789^e01) + (0.47645^e02) - (0.02892^e03) + (0.0009^e12) - (0.92794^e13) + (0.03879^e23)\n",
      "(2.49901^e01) + (0.5357^e02) + (0.15973^e03) + (0.02028^e12) - (0.91529^e13) - (0.04059^e23)\n",
      "(0.47029^e01) + (0.48831^e02) - (1.61848^e03) + (0.00546^e12) - (0.01419^e13) + (0.05884^e23)\n",
      "(0.72479^e01) + (0.09706^e02) - (2.97026^e03) - (0.20152^e12) - (0.46935^e13) - (0.13304^e23)\n",
      "\n",
      "(0.64623^e01) + (0.45985^e02) - (0.20223^e03) + (0.03483^e12) + (1.10023^e13) - (0.10311^e23)\n",
      "-(0.35022^e01) + (0.5332^e02) + (0.65078^e03) + (0.11172^e12) + (1.10758^e13) - (0.03219^e23)\n",
      "-(0.01393^e01) + (0.48363^e02) - (0.3246^e03) + (0.01558^e12) - (0.63501^e13) - (0.01629^e23)\n",
      "(0.26282^e01) + (0.46537^e02) - (0.13508^e03) - (0.08136^e12) + (0.52014^e13) - (0.06209^e23)\n",
      "-(0.56587^e01) + (0.50501^e02) + (0.33309^e03) + (0.03313^e12) + (0.90566^e13) - (0.06405^e23)\n",
      "-(0.02192^e01) + (0.47394^e02) - (0.31356^e03) - (0.07495^e12) - (0.60555^e13) - (0.04494^e23)\n",
      "-(0.30417^e01) + (0.49284^e02) + (0.27318^e03) - (0.19091^e12) - (1.13546^e13) - (0.02644^e23)\n",
      "(0.3315^e01) + (0.42782^e02) - (0.8343^e03) + (0.01029^e12) + (0.18843^e13) - (0.0628^e23)\n",
      "(0.45515^e01) + (0.45092^e02) + (0.23878^e03) + (0.00612^e12) + (0.65364^e13) + (0.01556^e23)\n",
      "-(0.15407^e01) + (0.50659^e02) + (0.53191^e03) + (0.08625^e12) + (0.57426^e13) - (0.06899^e23)\n"
     ]
    }
   ],
   "source": [
    "# best and worst motors for algebra rep\n",
    "for i in range(10):\n",
    "    test = aa_h[mot_1_best][:,0*6:0*6+6]\n",
    "    d_a = test[i]\n",
    "\n",
    "    rbm_a = d_a[0] * pga.e01 + d_a[1] * pga.e02+ d_a[2] * pga.e03 + d_a[3] * pga.e12 + d_a[4] * pga.e13 + d_a[5] * pga.e23\n",
    "    mot_a = e**rbm_a\n",
    "\n",
    "    # print(mot_a)\n",
    "    print(rbm_a)\n",
    "\n",
    "print()\n",
    "for i in range(10):    \n",
    "    test = aa_h[mot_1_worst][:,0*6:0*6+6]\n",
    "    d_a = test[i]\n",
    "\n",
    "    rbm_a = d_a[0] * pga.e01 + d_a[1] * pga.e02+ d_a[2] * pga.e03 + d_a[3] * pga.e12 + d_a[4] * pga.e13 + d_a[5] * pga.e23\n",
    "    mot_a = e**rbm_a\n",
    "\n",
    "    # print(mot_a)\n",
    "    print(rbm_a)"
   ]
  },
  {
   "cell_type": "code",
   "execution_count": 355,
   "metadata": {},
   "outputs": [],
   "source": [
    "mot_1_best = np.argpartition(np.sum(gg_g, axis=2).T,-10)[0][-10:]\n",
    "mot_1_worst = np.argpartition(np.sum(gg_g, axis=2).T,10)[0][:10]"
   ]
  },
  {
   "cell_type": "code",
   "execution_count": 359,
   "metadata": {},
   "outputs": [
    {
     "name": "stdout",
     "output_type": "stream",
     "text": [
      "0.5155 - (0.1638^e01) + (0.26095^e02) - (0.59078^e03) - (0.00669^e12) - (0.27542^e13) - (0.00658^e23) + (0.17156^e0123)\n",
      "0.61015 + (0.13379^e01) + (0.37777^e02) - (0.71174^e03) - (0.01318^e12) - (0.11515^e13) - (0.05445^e23) + (0.04396^e0123)\n",
      "0.64958 + (0.29196^e01) + (0.32622^e02) - (0.7605^e03) - (0.02504^e12) - (0.10409^e13) - (0.00459^e23) + (0.05118^e0123)\n",
      "0.60933 - (0.03526^e01) + (0.32822^e02) - (0.57419^e03) + (0.01311^e12) + (0.17502^e13) - (0.01034^e23) - (0.09915^e0123)\n",
      "0.57162 - (0.05496^e01) + (0.28261^e02) - (0.59522^e03) - (0.01299^e12) - (0.08203^e13) - (0.02185^e23) + (0.04411^e0123)\n",
      "0.65435 + (0.02178^e01) + (0.3595^e02) - (0.65608^e03) - (0.00297^e12) - (0.0117^e13) + (0.01259^e23) + (0.05417^e0123)\n",
      "0.64486 - (0.04967^e01) + (0.36624^e02) - (0.58484^e03) - (0.00733^e12) + (0.01391^e13) - (0.00893^e23) - (0.02055^e0123)\n",
      "0.65244 - (0.43875^e01) + (0.34739^e02) - (0.72879^e03) - (0.0293^e12) - (0.20051^e13) + (0.0606^e23) + (0.14089^e0123)\n",
      "0.52204 + (0.4275^e01) + (0.24182^e02) - (0.98583^e03) - (0.06754^e12) - (0.2037^e13) + (0.025^e23) + (0.06685^e0123)\n",
      "0.10597 - (0.148^e01) - (0.03037^e02) - (1.0187^e03) - (0.07023^e12) - (0.31915^e13) - (0.05812^e23) + (0.03507^e0123)\n",
      "\n",
      "0.61803 - (0.12191^e01) + (0.3115^e02) + (0.00089^e03) + (0.00502^e12) + (0.51907^e13) + (0.0465^e23) - (0.33254^e0123)\n",
      "0.72338 + (0.01339^e01) + (0.40546^e02) - (0.45592^e03) - (0.0679^e12) - (0.52261^e13) - (0.02442^e23) + (0.24975^e0123)\n",
      "0.3038 - (0.1041^e01) + (0.05308^e02) + (0.2652^e03) - (0.02302^e12) + (1.0179^e13) + (0.0608^e23) - (0.73259^e0123)\n",
      "0.64067 + (0.1338^e01) + (0.3367^e02) + (0.223^e03) + (0.01847^e12) + (0.71531^e13) + (0.02078^e23) - (0.51192^e0123)\n",
      "0.55177 - (0.3077^e01) + (0.26019^e02) - (0.21563^e03) - (0.0687^e12) - (0.77304^e13) + (0.05051^e23) + (0.4986^e0123)\n",
      "0.8038 + (0.0195^e01) + (0.42826^e02) - (0.00965^e03) + (0.0048^e12) + (0.18718^e13) - (0.04417^e23) - (0.11656^e0123)\n",
      "0.88875 - (0.08022^e01) + (0.44636^e02) - (0.48924^e03) - (0.0044^e12) - (0.13296^e13) - (0.03914^e23) + (0.05884^e0123)\n",
      "0.71587 - (0.38105^e01) + (0.34073^e02) - (0.20012^e03) + (0.04958^e12) + (0.551^e13) + (0.02462^e23) - (0.31913^e0123)\n",
      "0.2854 - (0.09802^e01) + (0.04813^e02) + (0.46327^e03) + (0.01581^e12) + (1.10426^e13) + (0.08349^e23) - (0.73563^e0123)\n",
      "0.56593 + (0.18995^e01) + (0.2011^e02) - (0.16778^e03) - (0.00266^e12) - (0.69057^e13) + (0.09889^e23) + (0.39818^e0123)\n"
     ]
    }
   ],
   "source": [
    "# The best and worst motors for group representations\n",
    "\n",
    "for i in range(10):\n",
    "    test = gg_h[mot_1_best][:,0*8:0*8+8]\n",
    "    d_g = test[i]\n",
    "\n",
    "    rbm_g = d_g[0] * 1 + d_g[1] * pga.e01 + d_g[2] * pga.e02 + d_g[3] * pga.e03 + d_g[4] * pga.e12 + d_g[5] * pga.e13 + d_g[6] * pga.e23 + d_g[7] * pga.e0123\n",
    "    mot_a = e**rbm_g\n",
    "\n",
    "    # print(mot_a)\n",
    "    print(rbm_g)\n",
    "\n",
    "print()\n",
    "for i in range(10):    \n",
    "    test = gg_h[mot_1_worst][:,0*8:0*8+8]\n",
    "    d_g = test[i]\n",
    "\n",
    "    rbm_g = d_g[0] * 1 + d_g[1] * pga.e01 + d_g[2] * pga.e02 + d_g[3] * pga.e03 + d_g[4] * pga.e12 + d_g[5] * pga.e13 + d_g[6] * pga.e23 + d_g[7] * pga.e0123\n",
    "    mot_a = e**rbm_g\n",
    "\n",
    "    # print(mot_a)\n",
    "    print(rbm_g)"
   ]
  },
  {
   "cell_type": "code",
   "execution_count": 294,
   "metadata": {},
   "outputs": [],
   "source": [
    "m = np.sum(np.abs(gg_g),axis=2)\n",
    "n = np.sum(m, axis=0)\n",
    "l = np.median(m, axis=0)\n",
    "# n.shape\n",
    "# m[10]"
   ]
  },
  {
   "cell_type": "code",
   "execution_count": 295,
   "metadata": {},
   "outputs": [
    {
     "data": {
      "text/plain": [
       "[<matplotlib.lines.Line2D at 0x238a21bdbe0>]"
      ]
     },
     "execution_count": 295,
     "metadata": {},
     "output_type": "execute_result"
    },
    {
     "data": {
      "image/png": "[encoded data removed]",
      "text/plain": [
       "<Figure size 432x288 with 1 Axes>"
      ]
     },
     "metadata": {
      "needs_background": "light"
     },
     "output_type": "display_data"
    }
   ],
   "source": [
    "# sum and median error for group rep\n",
    "\n",
    "plt.plot(n.T)"
   ]
  },
  {
   "cell_type": "code",
   "execution_count": 296,
   "metadata": {},
   "outputs": [
    {
     "data": {
      "text/plain": [
       "[<matplotlib.lines.Line2D at 0x238a221ee10>]"
      ]
     },
     "execution_count": 296,
     "metadata": {},
     "output_type": "execute_result"
    },
    {
     "data": {
      "image/png": "[encoded data removed]",
      "text/plain": [
       "<Figure size 432x288 with 1 Axes>"
      ]
     },
     "metadata": {
      "needs_background": "light"
     },
     "output_type": "display_data"
    }
   ],
   "source": [
    "# sum and median error for group rep\n",
    "plt.plot(l.T)"
   ]
  },
  {
   "cell_type": "code",
   "execution_count": 299,
   "metadata": {},
   "outputs": [
    {
     "data": {
      "image/png": "[encoded data removed]",
      "text/plain": [
       "<Figure size 432x288 with 1 Axes>"
      ]
     },
     "metadata": {
      "needs_background": "light"
     },
     "output_type": "display_data"
    },
    {
     "data": {
      "image/png": "[encoded data removed]",
      "text/plain": [
       "<Figure size 432x288 with 1 Axes>"
      ]
     },
     "metadata": {
      "needs_background": "light"
     },
     "output_type": "display_data"
    }
   ],
   "source": [
    "# sum and mediam error for algebra rep\n",
    "\n",
    "m = np.sum(np.abs(aa_a),axis=2)\n",
    "n = np.sum(m, axis=0)\n",
    "l = np.median(m, axis=0)\n",
    "\n",
    "plt.plot(n.T)\n",
    "plt.show()\n",
    "plt.plot(l.T)\n",
    "plt.show()"
   ]
  },
  {
   "cell_type": "code",
   "execution_count": null,
   "metadata": {},
   "outputs": [],
   "source": []
  },
  {
   "cell_type": "code",
   "execution_count": null,
   "metadata": {},
   "outputs": [],
   "source": []
  },
  {
   "cell_type": "code",
   "execution_count": 280,
   "metadata": {},
   "outputs": [
    {
     "data": {
      "image/png": "[encoded data removed]",
      "text/plain": [
       "<Figure size 432x288 with 1 Axes>"
      ]
     },
     "metadata": {
      "needs_background": "light"
     },
     "output_type": "display_data"
    }
   ],
   "source": [
    "# the errors for each bone\n",
    "\n",
    "plt.plot(m[:10].T)\n",
    "plt.plot([0,0],[-1,13], c=\"black\")\n",
    "plt.plot([22,22],[-1,13], c=\"black\")\n",
    "plt.plot([27,27],[-1,13], c=\"black\")\n",
    "\n",
    "plt.show()"
   ]
  },
  {
   "cell_type": "code",
   "execution_count": 52,
   "metadata": {},
   "outputs": [],
   "source": [
    "a_best = sum(aa_a < gg_g)\n",
    "g_best = sum(aa_a > gg_g)\n"
   ]
  },
  {
   "cell_type": "code",
   "execution_count": 58,
   "metadata": {},
   "outputs": [],
   "source": [
    "a_tot = np.sum(aa_a, axis=2)\n",
    "g_tot = np.sum(gg_g, axis=2)"
   ]
  },
  {
   "cell_type": "code",
   "execution_count": 302,
   "metadata": {},
   "outputs": [
    {
     "data": {
      "text/plain": [
       "(10000, 31)"
      ]
     },
     "execution_count": 302,
     "metadata": {},
     "output_type": "execute_result"
    }
   ],
   "source": [
    "(a_tot-g_tot).shape"
   ]
  },
  {
   "cell_type": "code",
   "execution_count": 65,
   "metadata": {},
   "outputs": [
    {
     "data": {
      "text/plain": [
       "array([False,  True,  True,  True,  True,  True,  True,  True,  True,\n",
       "       False, False,  True,  True, False,  True,  True,  True,  True,\n",
       "        True,  True, False, False,  True, False,  True,  True,  True,\n",
       "        True,  True,  True, False])"
      ]
     },
     "execution_count": 65,
     "metadata": {},
     "output_type": "execute_result"
    }
   ],
   "source": [
    "sum(a_tot<g_tot) > sum(a_tot>g_tot)"
   ]
  },
  {
   "cell_type": "code",
   "execution_count": 205,
   "metadata": {},
   "outputs": [
    {
     "data": {
      "text/plain": [
       "'RIGHTHAND'"
      ]
     },
     "execution_count": 205,
     "metadata": {},
     "output_type": "execute_result"
    }
   ],
   "source": [
    "bones[27]"
   ]
  },
  {
   "cell_type": "code",
   "execution_count": 69,
   "metadata": {},
   "outputs": [],
   "source": [
    "better_index = np.array([0,1,1,1,1,1,1,1,1,0,0,1,1,0,1,1,1,1,1,1,0,0,1,0,1,1,1,1,1,1,0])"
   ]
  },
  {
   "cell_type": "code",
   "execution_count": 20,
   "metadata": {},
   "outputs": [],
   "source": [
    "bones = np.array(['HIPS', 'LHIPJOINT', 'LEFTUPLEG', 'LEFTLEG', 'LEFTFOOT', 'LEFTTOEBASE', 'RHIPJOINT', 'RIGHTUPLEG', 'RIGHTLEG', 'RIGHTFOOT', 'RIGHTTOEBASE', 'SPINE', 'SPINE1', 'SPINE2', 'NECK', 'NECK1', 'HEAD', 'LEFTSHOULDER', 'LEFTARM', 'LEFTFOREARM', 'LEFTHAND', 'LEFTFINGERBASE', 'LEFTHANDINDEX1', 'LTHUMB', 'RIGHTSHOULDER', 'RIGHTARM', 'RIGHTFOREARM', 'RIGHTHAND', 'RIGHTFINGERBASE', 'RIGHTHANDINDEX1', 'RTHUMB'])"
   ]
  },
  {
   "cell_type": "code",
   "execution_count": 72,
   "metadata": {},
   "outputs": [
    {
     "data": {
      "text/plain": [
       "array(['LHIPJOINT', 'LEFTUPLEG', 'LEFTLEG', 'LEFTFOOT', 'LEFTTOEBASE',\n",
       "       'RHIPJOINT', 'RIGHTUPLEG', 'RIGHTLEG', 'SPINE', 'SPINE1', 'NECK',\n",
       "       'NECK1', 'HEAD', 'LEFTSHOULDER', 'LEFTARM', 'LEFTFOREARM',\n",
       "       'LEFTHANDINDEX1', 'RIGHTSHOULDER', 'RIGHTARM', 'RIGHTFOREARM',\n",
       "       'RIGHTHAND', 'RIGHTFINGERBASE', 'RIGHTHANDINDEX1'], dtype='<U15')"
      ]
     },
     "execution_count": 72,
     "metadata": {},
     "output_type": "execute_result"
    }
   ],
   "source": [
    "# bones that are better for algebra\n",
    "bones[better_index == 1]"
   ]
  },
  {
   "cell_type": "code",
   "execution_count": 73,
   "metadata": {},
   "outputs": [
    {
     "data": {
      "text/plain": [
       "array(['HIPS', 'RIGHTFOOT', 'RIGHTTOEBASE', 'SPINE2', 'LEFTHAND',\n",
       "       'LEFTFINGERBASE', 'LTHUMB', 'RTHUMB'], dtype='<U15')"
      ]
     },
     "execution_count": 73,
     "metadata": {},
     "output_type": "execute_result"
    }
   ],
   "source": [
    "bones[better_index == 0]"
   ]
  },
  {
   "cell_type": "code",
   "execution_count": 44,
   "metadata": {},
   "outputs": [
    {
     "name": "stdout",
     "output_type": "stream",
     "text": [
      "shape of arr:  (10000, 31, 3)\n",
      "shape of load_original_arr:  (10000, 31, 3)\n",
      "Yes, both the arrays are same\n"
     ]
    }
   ],
   "source": [
    "# implementation for saving and reconstructing more than 2d numpy arrays\n",
    "\n",
    "aa_a_re = aa_a.reshape(aa_a.shape[0], -1)\n",
    "np.savetxt(\"test.txt\", aa_a_re)\n",
    "  \n",
    "loaded_aa_a = np.loadtxt(\"test.txt\")\n",
    "  \n",
    "load_original_aa_a = loaded_aa_a.reshape(\n",
    "    loaded_aa_a.shape[0], loaded_aa_a.shape[1] // aa_a.shape[2], aa_a.shape[2])\n",
    "  \n",
    "print(aa_a.shape)\n",
    "print(load_original_aa_a.shape)\n"
   ]
  },
  {
   "cell_type": "code",
   "execution_count": 74,
   "metadata": {},
   "outputs": [],
   "source": [
    "#algebra jitter\n",
    "aa_y_j = jitter(aa_y)\n",
    "aa_h_j = jitter(aa_h)"
   ]
  },
  {
   "cell_type": "code",
   "execution_count": 75,
   "metadata": {},
   "outputs": [],
   "source": [
    "# group jitter\n",
    "gg_y_j = jitter(gg_y)\n",
    "gg_h_j = jitter(gg_h)"
   ]
  },
  {
   "cell_type": "code",
   "execution_count": 145,
   "metadata": {},
   "outputs": [
    {
     "name": "stderr",
     "output_type": "stream",
     "text": [
      "C:\\Users\\levik\\Anaconda3\\lib\\site-packages\\ipykernel_launcher.py:7: RuntimeWarning: divide by zero encountered in long_scalars\n",
      "  import sys\n",
      "C:\\Users\\levik\\Anaconda3\\lib\\site-packages\\ipykernel_launcher.py:7: RuntimeWarning: invalid value encountered in long_scalars\n",
      "  import sys\n",
      "C:\\Users\\levik\\Anaconda3\\lib\\site-packages\\ipykernel_launcher.py:8: RuntimeWarning: divide by zero encountered in long_scalars\n",
      "  \n",
      "C:\\Users\\levik\\Anaconda3\\lib\\site-packages\\ipykernel_launcher.py:8: RuntimeWarning: invalid value encountered in long_scalars\n",
      "  \n",
      "C:\\Users\\levik\\Anaconda3\\lib\\site-packages\\ipykernel_launcher.py:8: RuntimeWarning: divide by zero encountered in true_divide\n",
      "  \n"
     ]
    }
   ],
   "source": [
    "# print(np.array(aa_y_j)[:,1])\n",
    "# print(np.array(aa_h_j)[:,1])\n",
    "\n",
    "# print(np.array(gg_y_j)[:,1])\n",
    "# print(np.array(gg_h_j)[:,1])\n",
    "\n",
    "p_aa = np.array(aa_h_j)[:,1]/np.array(aa_y_j)[:,1]\n",
    "p_gg = np.array(gg_h_j)[:,1]/np.array(gg_y_j)[:,1]"
   ]
  },
  {
   "cell_type": "code",
   "execution_count": 596,
   "metadata": {},
   "outputs": [
    {
     "data": {
      "text/plain": [
       "186"
      ]
     },
     "execution_count": 596,
     "metadata": {},
     "output_type": "execute_result"
    }
   ],
   "source": [
    "# amount of parameters\n",
    "len(aa_h_j)"
   ]
  },
  {
   "cell_type": "code",
   "execution_count": 155,
   "metadata": {},
   "outputs": [
    {
     "name": "stdout",
     "output_type": "stream",
     "text": [
      "1156231\n",
      "271932\n",
      "1544978\n",
      "365175\n",
      "4.251912242766574\n",
      "4.2307879783665365\n"
     ]
    }
   ],
   "source": [
    "# ratio of jitter compared to original\n",
    "\n",
    "print(np.sum(np.array(aa_h_j)[:,1]))\n",
    "print(np.sum(np.array(aa_y_j)[:,1]))\n",
    "print(np.sum(np.array(gg_h_j)[:,1]))\n",
    "print(np.sum(np.array(gg_y_j)[:,1]))\n",
    "\n",
    "aaaa=np.sum(np.array(aa_h_j)[:,1])\n",
    "aaa=np.sum(np.array(aa_y_j)[:,1])\n",
    "gggg=np.sum(np.array(gg_h_j)[:,1])\n",
    "ggg=np.sum(np.array(gg_y_j)[:,1])\n",
    "\n",
    "print(aaaa/aaa)\n",
    "print(gggg/ggg)"
   ]
  },
  {
   "cell_type": "code",
   "execution_count": 603,
   "metadata": {},
   "outputs": [
    {
     "name": "stdout",
     "output_type": "stream",
     "text": [
      "\n",
      "0\n",
      "\n",
      "\n",
      "0\n",
      "5.645655877342419\n",
      "6.137511693171188\n",
      "\n",
      "1\n",
      "3.0416666666666665\n",
      "3.9292869770182675\n",
      "\n",
      "2\n",
      "5.620050547598989\n",
      "5.326876513317191\n",
      "\n",
      "3\n",
      "2.8465835840137514\n",
      "2.8139633886760325\n",
      "\n",
      "4\n",
      "4.768613138686131\n",
      "4.802941176470588\n",
      "\n",
      "5\n",
      "2.643979057591623\n",
      "2.678123736352608\n",
      "\n",
      "1\n",
      "\n",
      "\n",
      "0\n",
      "5.645655877342419\n",
      "6.137511693171188\n",
      "\n",
      "1\n",
      "3.0416666666666665\n",
      "3.9292869770182675\n",
      "\n",
      "2\n",
      "5.620050547598989\n",
      "5.326876513317191\n",
      "\n",
      "3\n",
      "2.8465835840137514\n",
      "2.8139633886760325\n",
      "\n",
      "4\n",
      "4.768613138686131\n",
      "4.802941176470588\n",
      "\n",
      "5\n",
      "2.643979057591623\n",
      "2.678123736352608\n",
      "\n",
      "2\n",
      "\n",
      "\n",
      "0\n",
      "5.645655877342419\n",
      "6.137511693171188\n",
      "\n",
      "1\n",
      "3.0416666666666665\n",
      "3.9292869770182675\n",
      "\n",
      "2\n",
      "5.620050547598989\n",
      "5.326876513317191\n",
      "\n",
      "3\n",
      "2.8465835840137514\n",
      "2.8139633886760325\n",
      "\n",
      "4\n",
      "4.768613138686131\n",
      "4.802941176470588\n",
      "\n",
      "5\n",
      "2.643979057591623\n",
      "2.678123736352608\n",
      "\n",
      "3\n",
      "\n",
      "\n",
      "0\n",
      "5.645655877342419\n",
      "6.137511693171188\n",
      "\n",
      "1\n",
      "3.0416666666666665\n",
      "3.9292869770182675\n",
      "\n",
      "2\n",
      "5.620050547598989\n",
      "5.326876513317191\n",
      "\n",
      "3\n",
      "2.8465835840137514\n",
      "2.8139633886760325\n",
      "\n",
      "4\n",
      "4.768613138686131\n",
      "4.802941176470588\n",
      "\n",
      "5\n",
      "2.643979057591623\n",
      "2.678123736352608\n",
      "\n",
      "4\n",
      "\n",
      "\n",
      "0\n",
      "5.645655877342419\n",
      "6.137511693171188\n",
      "\n",
      "1\n",
      "3.0416666666666665\n",
      "3.9292869770182675\n",
      "\n",
      "2\n",
      "5.620050547598989\n",
      "5.326876513317191\n",
      "\n",
      "3\n",
      "2.8465835840137514\n",
      "2.8139633886760325\n",
      "\n",
      "4\n",
      "4.768613138686131\n",
      "4.802941176470588\n",
      "\n",
      "5\n",
      "2.643979057591623\n",
      "2.678123736352608\n",
      "\n",
      "5\n",
      "\n",
      "\n",
      "0\n",
      "5.645655877342419\n",
      "6.137511693171188\n",
      "\n",
      "1\n",
      "3.0416666666666665\n",
      "3.9292869770182675\n",
      "\n",
      "2\n",
      "5.620050547598989\n",
      "5.326876513317191\n",
      "\n",
      "3\n",
      "2.8465835840137514\n",
      "2.8139633886760325\n",
      "\n",
      "4\n",
      "4.768613138686131\n",
      "4.802941176470588\n",
      "\n",
      "5\n",
      "2.643979057591623\n",
      "2.678123736352608\n",
      "\n",
      "6\n",
      "\n",
      "\n",
      "0\n",
      "5.645655877342419\n",
      "6.137511693171188\n",
      "\n",
      "1\n",
      "3.0416666666666665\n",
      "3.9292869770182675\n",
      "\n",
      "2\n",
      "5.620050547598989\n",
      "5.326876513317191\n",
      "\n",
      "3\n",
      "2.8465835840137514\n",
      "2.8139633886760325\n",
      "\n",
      "4\n",
      "4.768613138686131\n",
      "4.802941176470588\n",
      "\n",
      "5\n",
      "2.643979057591623\n",
      "2.678123736352608\n",
      "\n",
      "7\n",
      "\n",
      "\n",
      "0\n",
      "5.645655877342419\n",
      "6.137511693171188\n",
      "\n",
      "1\n",
      "3.0416666666666665\n",
      "3.9292869770182675\n",
      "\n",
      "2\n",
      "5.620050547598989\n",
      "5.326876513317191\n",
      "\n",
      "3\n",
      "2.8465835840137514\n",
      "2.8139633886760325\n",
      "\n",
      "4\n",
      "4.768613138686131\n",
      "4.802941176470588\n",
      "\n",
      "5\n",
      "2.643979057591623\n",
      "2.678123736352608\n",
      "\n",
      "8\n",
      "\n",
      "\n",
      "0\n",
      "5.645655877342419\n",
      "6.137511693171188\n",
      "\n",
      "1\n",
      "3.0416666666666665\n",
      "3.9292869770182675\n",
      "\n",
      "2\n",
      "5.620050547598989\n",
      "5.326876513317191\n",
      "\n",
      "3\n",
      "2.8465835840137514\n",
      "2.8139633886760325\n",
      "\n",
      "4\n",
      "4.768613138686131\n",
      "4.802941176470588\n",
      "\n",
      "5\n",
      "2.643979057591623\n",
      "2.678123736352608\n",
      "\n",
      "9\n",
      "\n",
      "\n",
      "0\n",
      "5.645655877342419\n",
      "6.137511693171188\n",
      "\n",
      "1\n",
      "3.0416666666666665\n",
      "3.9292869770182675\n",
      "\n",
      "2\n",
      "5.620050547598989\n",
      "5.326876513317191\n",
      "\n",
      "3\n",
      "2.8465835840137514\n",
      "2.8139633886760325\n",
      "\n",
      "4\n",
      "4.768613138686131\n",
      "4.802941176470588\n",
      "\n",
      "5\n",
      "2.643979057591623\n",
      "2.678123736352608\n",
      "\n",
      "10\n",
      "\n",
      "\n",
      "0\n",
      "5.645655877342419\n",
      "6.137511693171188\n",
      "\n",
      "1\n",
      "3.0416666666666665\n",
      "3.9292869770182675\n",
      "\n",
      "2\n",
      "5.620050547598989\n",
      "5.326876513317191\n",
      "\n",
      "3\n",
      "2.8465835840137514\n",
      "2.8139633886760325\n",
      "\n",
      "4\n",
      "4.768613138686131\n",
      "4.802941176470588\n",
      "\n",
      "5\n",
      "2.643979057591623\n",
      "2.678123736352608\n",
      "\n",
      "11\n",
      "\n",
      "\n",
      "0\n",
      "5.645655877342419\n",
      "6.137511693171188\n",
      "\n",
      "1\n",
      "3.0416666666666665\n",
      "3.9292869770182675\n",
      "\n",
      "2\n",
      "5.620050547598989\n",
      "5.326876513317191\n",
      "\n",
      "3\n",
      "2.8465835840137514\n",
      "2.8139633886760325\n",
      "\n",
      "4\n",
      "4.768613138686131\n",
      "4.802941176470588\n",
      "\n",
      "5\n",
      "2.643979057591623\n",
      "2.678123736352608\n",
      "\n",
      "12\n",
      "\n",
      "\n",
      "0\n",
      "5.645655877342419\n",
      "6.137511693171188\n",
      "\n",
      "1\n",
      "3.0416666666666665\n",
      "3.9292869770182675\n",
      "\n",
      "2\n",
      "5.620050547598989\n",
      "5.326876513317191\n",
      "\n",
      "3\n",
      "2.8465835840137514\n",
      "2.8139633886760325\n",
      "\n",
      "4\n",
      "4.768613138686131\n",
      "4.802941176470588\n",
      "\n",
      "5\n",
      "2.643979057591623\n",
      "2.678123736352608\n",
      "\n",
      "13\n",
      "\n",
      "\n",
      "0\n",
      "5.645655877342419\n",
      "6.137511693171188\n",
      "\n",
      "1\n",
      "3.0416666666666665\n",
      "3.9292869770182675\n",
      "\n",
      "2\n",
      "5.620050547598989\n",
      "5.326876513317191\n",
      "\n",
      "3\n",
      "2.8465835840137514\n",
      "2.8139633886760325\n",
      "\n",
      "4\n",
      "4.768613138686131\n",
      "4.802941176470588\n",
      "\n",
      "5\n",
      "2.643979057591623\n",
      "2.678123736352608\n",
      "\n",
      "14\n",
      "\n",
      "\n",
      "0\n",
      "5.645655877342419\n",
      "6.137511693171188\n",
      "\n",
      "1\n",
      "3.0416666666666665\n",
      "3.9292869770182675\n",
      "\n",
      "2\n",
      "5.620050547598989\n",
      "5.326876513317191\n",
      "\n",
      "3\n",
      "2.8465835840137514\n",
      "2.8139633886760325\n",
      "\n",
      "4\n",
      "4.768613138686131\n",
      "4.802941176470588\n",
      "\n",
      "5\n",
      "2.643979057591623\n",
      "2.678123736352608\n",
      "\n",
      "15\n",
      "\n",
      "\n",
      "0\n",
      "5.645655877342419\n",
      "6.137511693171188\n",
      "\n",
      "1\n",
      "3.0416666666666665\n",
      "3.9292869770182675\n",
      "\n",
      "2\n",
      "5.620050547598989\n",
      "5.326876513317191\n",
      "\n",
      "3\n",
      "2.8465835840137514\n",
      "2.8139633886760325\n",
      "\n",
      "4\n",
      "4.768613138686131\n",
      "4.802941176470588\n",
      "\n",
      "5\n",
      "2.643979057591623\n",
      "2.678123736352608\n",
      "\n",
      "16\n",
      "\n",
      "\n",
      "0\n",
      "5.645655877342419\n",
      "6.137511693171188\n",
      "\n",
      "1\n",
      "3.0416666666666665\n",
      "3.9292869770182675\n",
      "\n",
      "2\n",
      "5.620050547598989\n",
      "5.326876513317191\n",
      "\n",
      "3\n",
      "2.8465835840137514\n",
      "2.8139633886760325\n",
      "\n",
      "4\n",
      "4.768613138686131\n",
      "4.802941176470588\n",
      "\n",
      "5\n",
      "2.643979057591623\n",
      "2.678123736352608\n",
      "\n",
      "17\n",
      "\n",
      "\n",
      "0\n",
      "5.645655877342419\n",
      "6.137511693171188\n",
      "\n",
      "1\n",
      "3.0416666666666665\n",
      "3.9292869770182675\n",
      "\n",
      "2\n",
      "5.620050547598989\n",
      "5.326876513317191\n",
      "\n",
      "3\n",
      "2.8465835840137514\n",
      "2.8139633886760325\n",
      "\n",
      "4\n",
      "4.768613138686131\n",
      "4.802941176470588\n",
      "\n",
      "5\n",
      "2.643979057591623\n",
      "2.678123736352608\n",
      "\n",
      "18\n",
      "\n",
      "\n",
      "0\n",
      "5.645655877342419\n",
      "6.137511693171188\n",
      "\n",
      "1\n",
      "3.0416666666666665\n",
      "3.9292869770182675\n",
      "\n",
      "2\n",
      "5.620050547598989\n",
      "5.326876513317191\n",
      "\n",
      "3\n",
      "2.8465835840137514\n",
      "2.8139633886760325\n",
      "\n",
      "4\n",
      "4.768613138686131\n",
      "4.802941176470588\n",
      "\n",
      "5\n",
      "2.643979057591623\n",
      "2.678123736352608\n",
      "\n",
      "19\n",
      "\n",
      "\n",
      "0\n",
      "5.645655877342419\n",
      "6.137511693171188\n",
      "\n",
      "1\n",
      "3.0416666666666665\n",
      "3.9292869770182675\n",
      "\n",
      "2\n",
      "5.620050547598989\n",
      "5.326876513317191\n",
      "\n",
      "3\n",
      "2.8465835840137514\n",
      "2.8139633886760325\n",
      "\n",
      "4\n",
      "4.768613138686131\n",
      "4.802941176470588\n",
      "\n",
      "5\n",
      "2.643979057591623\n",
      "2.678123736352608\n",
      "\n",
      "20\n",
      "\n",
      "\n",
      "0\n",
      "5.645655877342419\n",
      "6.137511693171188\n",
      "\n",
      "1\n",
      "3.0416666666666665\n",
      "3.9292869770182675\n",
      "\n",
      "2\n",
      "5.620050547598989\n",
      "5.326876513317191\n",
      "\n",
      "3\n",
      "2.8465835840137514\n",
      "2.8139633886760325\n",
      "\n",
      "4\n",
      "4.768613138686131\n",
      "4.802941176470588\n",
      "\n",
      "5\n",
      "2.643979057591623\n",
      "2.678123736352608\n",
      "\n",
      "21\n",
      "\n",
      "\n",
      "0\n",
      "5.645655877342419\n",
      "6.137511693171188\n",
      "\n",
      "1\n",
      "3.0416666666666665\n",
      "3.9292869770182675\n",
      "\n",
      "2\n",
      "5.620050547598989\n",
      "5.326876513317191\n",
      "\n",
      "3\n",
      "2.8465835840137514\n",
      "2.8139633886760325\n",
      "\n",
      "4\n",
      "4.768613138686131\n",
      "4.802941176470588\n",
      "\n",
      "5\n",
      "2.643979057591623\n",
      "2.678123736352608\n",
      "\n",
      "22\n",
      "\n",
      "\n",
      "0\n",
      "5.645655877342419\n",
      "6.137511693171188\n",
      "\n",
      "1\n",
      "3.0416666666666665\n",
      "3.9292869770182675\n",
      "\n",
      "2\n",
      "5.620050547598989\n",
      "5.326876513317191\n",
      "\n",
      "3\n",
      "2.8465835840137514\n",
      "2.8139633886760325\n",
      "\n",
      "4\n",
      "4.768613138686131\n",
      "4.802941176470588\n",
      "\n",
      "5\n",
      "2.643979057591623\n",
      "2.678123736352608\n",
      "\n",
      "23\n",
      "\n",
      "\n",
      "0\n",
      "5.645655877342419\n",
      "6.137511693171188\n",
      "\n",
      "1\n",
      "3.0416666666666665\n",
      "3.9292869770182675\n",
      "\n",
      "2\n",
      "5.620050547598989\n",
      "5.326876513317191\n",
      "\n",
      "3\n",
      "2.8465835840137514\n",
      "2.8139633886760325\n",
      "\n",
      "4\n",
      "4.768613138686131\n",
      "4.802941176470588\n",
      "\n",
      "5\n",
      "2.643979057591623\n",
      "2.678123736352608\n",
      "\n",
      "24\n",
      "\n",
      "\n",
      "0\n",
      "5.645655877342419\n",
      "6.137511693171188\n",
      "\n",
      "1\n",
      "3.0416666666666665\n",
      "3.9292869770182675\n",
      "\n",
      "2\n",
      "5.620050547598989\n",
      "5.326876513317191\n",
      "\n",
      "3\n",
      "2.8465835840137514\n",
      "2.8139633886760325\n",
      "\n",
      "4\n",
      "4.768613138686131\n",
      "4.802941176470588\n",
      "\n",
      "5\n",
      "2.643979057591623\n",
      "2.678123736352608\n",
      "\n",
      "25\n",
      "\n",
      "\n",
      "0\n",
      "5.645655877342419\n",
      "6.137511693171188\n",
      "\n",
      "1\n",
      "3.0416666666666665\n",
      "3.9292869770182675\n",
      "\n",
      "2\n",
      "5.620050547598989\n",
      "5.326876513317191\n",
      "\n",
      "3\n",
      "2.8465835840137514\n",
      "2.8139633886760325\n",
      "\n",
      "4\n",
      "4.768613138686131\n",
      "4.802941176470588\n",
      "\n",
      "5\n",
      "2.643979057591623\n",
      "2.678123736352608\n",
      "\n",
      "26\n",
      "\n",
      "\n",
      "0\n",
      "5.645655877342419\n",
      "6.137511693171188\n",
      "\n",
      "1\n",
      "3.0416666666666665\n",
      "3.9292869770182675\n",
      "\n",
      "2\n",
      "5.620050547598989\n",
      "5.326876513317191\n",
      "\n",
      "3\n",
      "2.8465835840137514\n",
      "2.8139633886760325\n",
      "\n",
      "4\n",
      "4.768613138686131\n",
      "4.802941176470588\n",
      "\n",
      "5\n",
      "2.643979057591623\n",
      "2.678123736352608\n",
      "\n",
      "27\n",
      "\n",
      "\n",
      "0\n",
      "5.645655877342419\n",
      "6.137511693171188\n",
      "\n",
      "1\n",
      "3.0416666666666665\n",
      "3.9292869770182675\n",
      "\n",
      "2\n",
      "5.620050547598989\n",
      "5.326876513317191\n",
      "\n",
      "3\n",
      "2.8465835840137514\n",
      "2.8139633886760325\n",
      "\n",
      "4\n",
      "4.768613138686131\n",
      "4.802941176470588\n",
      "\n",
      "5\n",
      "2.643979057591623\n",
      "2.678123736352608\n",
      "\n",
      "28\n",
      "\n",
      "\n",
      "0\n",
      "5.645655877342419\n",
      "6.137511693171188\n",
      "\n",
      "1\n",
      "3.0416666666666665\n",
      "3.9292869770182675\n",
      "\n",
      "2\n",
      "5.620050547598989\n",
      "5.326876513317191\n",
      "\n",
      "3\n",
      "2.8465835840137514\n",
      "2.8139633886760325\n",
      "\n",
      "4\n",
      "4.768613138686131\n",
      "4.802941176470588\n",
      "\n",
      "5\n",
      "2.643979057591623\n",
      "2.678123736352608\n",
      "\n",
      "29\n",
      "\n",
      "\n",
      "0\n",
      "5.645655877342419\n",
      "6.137511693171188\n",
      "\n",
      "1\n",
      "3.0416666666666665\n",
      "3.9292869770182675\n",
      "\n",
      "2\n",
      "5.620050547598989\n",
      "5.326876513317191\n",
      "\n",
      "3\n",
      "2.8465835840137514\n",
      "2.8139633886760325\n",
      "\n",
      "4\n",
      "4.768613138686131\n",
      "4.802941176470588\n",
      "\n",
      "5\n",
      "2.643979057591623\n",
      "2.678123736352608\n",
      "\n",
      "30\n",
      "\n",
      "\n",
      "0\n",
      "5.645655877342419\n",
      "6.137511693171188\n",
      "\n",
      "1\n",
      "3.0416666666666665\n",
      "3.9292869770182675\n",
      "\n",
      "2\n",
      "5.620050547598989\n",
      "5.326876513317191\n",
      "\n",
      "3\n",
      "2.8465835840137514\n",
      "2.8139633886760325\n",
      "\n",
      "4\n",
      "4.768613138686131\n",
      "4.802941176470588\n",
      "\n",
      "5\n",
      "2.643979057591623\n",
      "2.678123736352608\n"
     ]
    }
   ],
   "source": [
    "# ratio per motor\n",
    "\n",
    "for j in range(31):\n",
    "    print()\n",
    "    print(j)\n",
    "    print()\n",
    "    for i in range(6):\n",
    "        aaaa=np.sum(np.array(aa_h_j)[i,1])\n",
    "        aaa=np.sum(np.array(aa_y_j)[i,1])\n",
    "        gggg=np.sum(np.array(gg_h_j)[i+1,1])\n",
    "        ggg=np.sum(np.array(gg_y_j)[i+1,1])\n",
    "        print()\n",
    "        print(i)\n",
    "        print(aaaa/aaa)\n",
    "        print(gggg/ggg)"
   ]
  },
  {
   "cell_type": "code",
   "execution_count": 143,
   "metadata": {},
   "outputs": [
    {
     "name": "stdout",
     "output_type": "stream",
     "text": [
      "0.2531788159378957\n",
      "0.23680577686935927\n"
     ]
    }
   ],
   "source": [
    "# mean ratio of zero cross\n",
    "\n",
    "print(np.nanmean(p_gg))\n",
    "print(np.nanmean(p_aa))"
   ]
  },
  {
   "cell_type": "code",
   "execution_count": 140,
   "metadata": {},
   "outputs": [
    {
     "name": "stdout",
     "output_type": "stream",
     "text": [
      "(1.0^e0) + (0.8^e1) - (0.1^e2) + (0.1^e3)\n",
      "-(0.1^e012) - (0.1^e013) - (0.8^e023) + (1.0^e123)\n",
      "(1.0^e0) - (0.8^e1) - (0.1^e2) + (0.1^e3)\n",
      "-(0.1^e012) - (0.1^e013) + (0.8^e023) + (1.0^e123)\n"
     ]
    }
   ],
   "source": [
    "# Experimentation with origin and triangles for motor evaluation\n",
    "\n",
    "origin = (1*pga.e0).dual()\n",
    "\n",
    "test = 1*pga.e0 + 0.8*pga.e1 + -0.1*pga.e2 + 0.1*pga.e3\n",
    "print(test)\n",
    "test = test.dual()\n",
    "print(test)\n",
    "\n",
    "test1 = 1*pga.e0 - 0.8*pga.e1 + -0.1*pga.e2 + 0.1*pga.e3\n",
    "print(test1)\n",
    "test1 = test1.dual()\n",
    "print(test1)"
   ]
  },
  {
   "cell_type": "code",
   "execution_count": 98,
   "metadata": {},
   "outputs": [],
   "source": [
    "a = (1*pga.e0 + .5*pga.e1 + 0*pga.e2 + 0*pga.e3).dual()\n",
    "b = (1*pga.e0 + 0*pga.e1 + .5*pga.e2 + 0*pga.e3).dual()\n",
    "c = (1*pga.e0 + 0*pga.e1 + 0*pga.e2 + .5*pga.e3).dual()\n"
   ]
  },
  {
   "cell_type": "code",
   "execution_count": 101,
   "metadata": {},
   "outputs": [],
   "source": [
    "mot = e**(1*pga.e02)"
   ]
  },
  {
   "cell_type": "code",
   "execution_count": 102,
   "metadata": {},
   "outputs": [],
   "source": [
    "test1 = mot*test*~mot\n",
    "origin1 = mot*origin*~mot"
   ]
  },
  {
   "cell_type": "code",
   "execution_count": 111,
   "metadata": {},
   "outputs": [
    {
     "data": {
      "text/plain": [
       "(2.0^e13)"
      ]
     },
     "execution_count": 111,
     "metadata": {},
     "output_type": "execute_result"
    }
   ],
   "source": [
    "kk = origin.normal().vee(origin1.normal())\n",
    "kk"
   ]
  },
  {
   "cell_type": "code",
   "execution_count": 112,
   "metadata": {},
   "outputs": [
    {
     "data": {
      "text/plain": [
       "(2.0^e13)"
      ]
     },
     "execution_count": 112,
     "metadata": {},
     "output_type": "execute_result"
    }
   ],
   "source": [
    "origin.normal().vee(origin1.normal())"
   ]
  },
  {
   "cell_type": "code",
   "execution_count": 113,
   "metadata": {},
   "outputs": [
    {
     "data": {
      "text/plain": [
       "2.0"
      ]
     },
     "execution_count": 113,
     "metadata": {},
     "output_type": "execute_result"
    }
   ],
   "source": [
    "np.sqrt(sum([q ** 2 for q in kk])) # distance"
   ]
  },
  {
   "cell_type": "code",
   "execution_count": 114,
   "metadata": {},
   "outputs": [
    {
     "name": "stdout",
     "output_type": "stream",
     "text": [
      "[0.0, 0.0, 0.0, 0.0, 0.0, 0.0, 0.0, 0.0, 0.0, 4.0, 0.0, 0.0, 0.0, 0.0, 0.0, 0.0]\n"
     ]
    }
   ],
   "source": [
    "print([q ** 2 for q in kk])"
   ]
  },
  {
   "cell_type": "code",
   "execution_count": 115,
   "metadata": {},
   "outputs": [
    {
     "data": {
      "text/plain": [
       "(2.0^e13)"
      ]
     },
     "execution_count": 115,
     "metadata": {},
     "output_type": "execute_result"
    }
   ],
   "source": []
  },
  {
   "cell_type": "code",
   "execution_count": 109,
   "metadata": {},
   "outputs": [
    {
     "data": {
      "text/plain": [
       "(1.0^e123)"
      ]
     },
     "execution_count": 109,
     "metadata": {},
     "output_type": "execute_result"
    }
   ],
   "source": [
    "origin"
   ]
  },
  {
   "cell_type": "code",
   "execution_count": 110,
   "metadata": {},
   "outputs": [
    {
     "data": {
      "text/plain": [
       "-(2.0^e013) + (1.0^e123)"
      ]
     },
     "execution_count": 110,
     "metadata": {},
     "output_type": "execute_result"
    }
   ],
   "source": [
    "origin1"
   ]
  },
  {
   "cell_type": "code",
   "execution_count": 96,
   "metadata": {},
   "outputs": [],
   "source": [
    "joep = (1 + origin/origin1).normal()"
   ]
  },
  {
   "cell_type": "code",
   "execution_count": null,
   "metadata": {},
   "outputs": [],
   "source": []
  },
  {
   "cell_type": "code",
   "execution_count": 97,
   "metadata": {},
   "outputs": [],
   "source": [
    "l1 = origin1.vee(test1)\n",
    "l2 = origin1.vee(joep*test)\n",
    "\n",
    "joep = (1 + l1/l2).normal() * joep"
   ]
  },
  {
   "cell_type": "code",
   "execution_count": null,
   "metadata": {},
   "outputs": [],
   "source": [
    "p1 = L1.vee()"
   ]
  },
  {
   "cell_type": "code",
   "execution_count": 316,
   "metadata": {},
   "outputs": [
    {
     "data": {
      "text/plain": [
       "array([ 1.27318293e-01,  4.24659900e-01, -1.63049322e-01,  1.62824152e-02,\n",
       "       -1.47749780e-01, -3.07050706e-02,  0.00000000e+00,  0.00000000e+00,\n",
       "        0.00000000e+00,  0.00000000e+00,  0.00000000e+00,  0.00000000e+00,\n",
       "        5.92928476e-02, -3.90020927e-02,  1.61147535e-02,  1.72207979e-01,\n",
       "       -6.08597387e-02,  1.78490508e-01,  6.19122131e-02, -1.70102586e-01,\n",
       "        6.74982672e-02,  5.00000000e-09,  1.20058628e-01, -3.29858465e-01,\n",
       "        6.40887910e-02, -1.93096790e-01, -2.75318203e-02, -3.61408264e-02,\n",
       "        6.76127010e-02,  1.65073056e-01,  6.37949850e-03, -1.75277596e-02,\n",
       "        5.90157738e-02, -6.50300000e-07, -9.93717560e-03,  2.73021700e-02,\n",
       "        0.00000000e+00,  0.00000000e+00,  0.00000000e+00,  0.00000000e+00,\n",
       "        0.00000000e+00,  0.00000000e+00, -5.70955224e-02, -3.90165677e-02,\n",
       "        1.58775216e-02, -1.84172729e-01,  5.77132634e-02,  1.91186983e-01,\n",
       "       -6.17849164e-02, -1.69752877e-01,  7.07841682e-02,  3.29000000e-08,\n",
       "       -1.25797228e-01, -3.45625030e-01, -6.52123051e-02, -1.93312991e-01,\n",
       "       -3.72971715e-02,  3.39157498e-02, -8.53233372e-02,  2.19147638e-01,\n",
       "       -8.13961540e-03, -2.23633524e-02,  5.96511824e-02,  3.02900000e-07,\n",
       "        2.21142463e-02,  6.07583438e-02,  0.00000000e+00,  0.00000000e+00,\n",
       "        0.00000000e+00, -4.16487000e-05,  2.40932210e-03, -7.52320597e-02,\n",
       "        4.38173000e-04,  6.04202941e-02, -1.08494881e-02,  7.14424140e-03,\n",
       "        2.08319850e-03, -3.22190658e-02, -1.01623640e-03,  6.23299457e-02,\n",
       "        8.40605700e-04,  8.27452610e-03,  7.55310100e-04,  4.69773970e-03,\n",
       "        0.00000000e+00,  0.00000000e+00,  0.00000000e+00, -6.63094315e-02,\n",
       "        3.41011861e-02,  8.17810309e-02, -1.08875600e-03,  4.79991270e-02,\n",
       "       -1.82599600e-04,  4.96856912e-02,  1.36894027e-02, -1.09982516e-01,\n",
       "       -5.30765250e-03,  4.54041420e-02, -6.38953220e-03,  8.15026259e-02,\n",
       "        8.72910700e-04, -3.17937643e-02,  0.00000000e+00,  0.00000000e+00,\n",
       "        0.00000000e+00,  0.00000000e+00,  0.00000000e+00,  0.00000000e+00,\n",
       "        4.80381632e-02,  7.45299248e-02, -2.31200711e-02,  5.27943820e-01,\n",
       "       -1.86754983e-01, -1.33051116e-01,  1.28950856e-01, -3.98641084e-02,\n",
       "       -6.90466512e-02, -2.66268397e-01, -4.61190333e-01,  1.67000000e-08,\n",
       "        9.49299936e-02,  0.00000000e+00,  0.00000000e+00,  0.00000000e+00,\n",
       "        0.00000000e+00,  6.65471060e-03,  0.00000000e+00,  0.00000000e+00,\n",
       "        0.00000000e+00, -1.75015862e-01,  1.14366625e-01, -2.12264411e-02,\n",
       "        1.72183320e-02,  1.07201360e-03,  0.00000000e+00,  6.21770000e-02,\n",
       "        0.00000000e+00,  0.00000000e+00,  0.00000000e+00,  0.00000000e+00,\n",
       "        0.00000000e+00,  4.97631514e-02,  3.65981183e-01, -2.23852988e-02,\n",
       "        0.00000000e+00,  0.00000000e+00,  0.00000000e+00,  0.00000000e+00,\n",
       "        0.00000000e+00,  0.00000000e+00, -4.08554713e-02,  7.63143967e-02,\n",
       "       -2.72906200e-02, -5.68993318e-01,  1.87521806e-01, -1.59823533e-01,\n",
       "       -1.30342419e-01, -3.72891085e-02, -6.45866087e-02,  2.50479155e-01,\n",
       "        4.33842501e-01,  8.37000000e-08, -9.37482218e-02,  0.00000000e+00,\n",
       "        0.00000000e+00,  0.00000000e+00,  0.00000000e+00,  9.40560994e-02,\n",
       "        0.00000000e+00,  0.00000000e+00,  0.00000000e+00,  2.04790912e-01,\n",
       "        1.50420709e-02,  6.75494440e-03, -1.79069514e-02,  1.11514960e-03,\n",
       "        0.00000000e+00, -6.21770000e-02,  0.00000000e+00,  0.00000000e+00,\n",
       "        0.00000000e+00,  0.00000000e+00,  0.00000000e+00, -2.35751698e-02,\n",
       "       -2.40176091e-01, -1.05617154e-02])"
      ]
     },
     "execution_count": 316,
     "metadata": {},
     "output_type": "execute_result"
    }
   ],
   "source": [
    "# mean per motor parameter\n",
    "np.mean(aa_y, axis=0)"
   ]
  },
  {
   "cell_type": "code",
   "execution_count": 333,
   "metadata": {},
   "outputs": [
    {
     "name": "stdout",
     "output_type": "stream",
     "text": [
      "[ 99 167 130  89 120  22   0 171 160 159 154  15  17 142  29 114 111   1\n",
      "  47  59]\n",
      "0 126 156\n"
     ]
    }
   ],
   "source": [
    "# sort index by largest error\n",
    "print(np.argpartition(np.mean(aa_y, axis=0),-20)[-20:])\n"
   ]
  },
  {
   "cell_type": "code",
   "execution_count": null,
   "metadata": {},
   "outputs": [],
   "source": [
    "x`"
   ]
  }
 ],
 "metadata": {
  "kernelspec": {
   "display_name": "Python 3",
   "language": "python",
   "name": "python3"
  },
  "language_info": {
   "codemirror_mode": {
    "name": "ipython",
    "version": 3
   },
   "file_extension": ".py",
   "mimetype": "text/x-python",
   "name": "python",
   "nbconvert_exporter": "python",
   "pygments_lexer": "ipython3",
   "version": "3.7.3"
  }
 },
 "nbformat": 4,
 "nbformat_minor": 4
}
